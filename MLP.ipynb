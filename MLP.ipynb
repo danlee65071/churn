{
 "cells": [
  {
   "cell_type": "code",
   "execution_count": 1,
   "metadata": {},
   "outputs": [],
   "source": [
    "import numpy as np\n",
    "import pandas as pd\n",
    "import matplotlib.pyplot as plt\n",
    "import seaborn as sns\n",
    "from sklearn.impute import SimpleImputer\n",
    "from sklearn.preprocessing import StandardScaler, OneHotEncoder\n",
    "from sklearn.pipeline import Pipeline, FeatureUnion\n",
    "from sklearn.model_selection import train_test_split, GridSearchCV, StratifiedKFold\n",
    "from sklearn.decomposition import PCA\n",
    "from sklearn.neural_network import MLPClassifier\n",
    "from sklearn.metrics import make_scorer, roc_auc_score\n",
    "\n",
    "from utils import exctract_data, DataFrameSelector"
   ]
  },
  {
   "cell_type": "code",
   "execution_count": 2,
   "metadata": {},
   "outputs": [
    {
     "name": "stderr",
     "output_type": "stream",
     "text": [
      "[Errno 17] File exists: '/home/lee/churn/datasets'\n"
     ]
    }
   ],
   "source": [
    "exctract_data()"
   ]
  },
  {
   "cell_type": "code",
   "execution_count": 3,
   "metadata": {},
   "outputs": [
    {
     "data": {
      "text/html": [
       "<div>\n",
       "<style scoped>\n",
       "    .dataframe tbody tr th:only-of-type {\n",
       "        vertical-align: middle;\n",
       "    }\n",
       "\n",
       "    .dataframe tbody tr th {\n",
       "        vertical-align: top;\n",
       "    }\n",
       "\n",
       "    .dataframe thead th {\n",
       "        text-align: right;\n",
       "    }\n",
       "</style>\n",
       "<table border=\"1\" class=\"dataframe\">\n",
       "  <thead>\n",
       "    <tr style=\"text-align: right;\">\n",
       "      <th></th>\n",
       "      <th>ID</th>\n",
       "      <th>CR_PROD_CNT_IL</th>\n",
       "      <th>AMOUNT_RUB_CLO_PRC</th>\n",
       "      <th>PRC_ACCEPTS_A_EMAIL_LINK</th>\n",
       "      <th>APP_REGISTR_RGN_CODE</th>\n",
       "      <th>PRC_ACCEPTS_A_POS</th>\n",
       "      <th>PRC_ACCEPTS_A_TK</th>\n",
       "      <th>TURNOVER_DYNAMIC_IL_1M</th>\n",
       "      <th>CNT_TRAN_AUT_TENDENCY1M</th>\n",
       "      <th>SUM_TRAN_AUT_TENDENCY1M</th>\n",
       "      <th>...</th>\n",
       "      <th>REST_DYNAMIC_CC_3M</th>\n",
       "      <th>MED_DEBT_PRC_YWZ</th>\n",
       "      <th>LDEAL_ACT_DAYS_PCT_TR3</th>\n",
       "      <th>LDEAL_ACT_DAYS_PCT_AAVG</th>\n",
       "      <th>LDEAL_DELINQ_PER_MAXYWZ</th>\n",
       "      <th>TURNOVER_DYNAMIC_CC_3M</th>\n",
       "      <th>LDEAL_ACT_DAYS_PCT_TR</th>\n",
       "      <th>LDEAL_ACT_DAYS_PCT_TR4</th>\n",
       "      <th>LDEAL_ACT_DAYS_PCT_CURR</th>\n",
       "      <th>TARGET</th>\n",
       "    </tr>\n",
       "  </thead>\n",
       "  <tbody>\n",
       "    <tr>\n",
       "      <th>0</th>\n",
       "      <td>146841</td>\n",
       "      <td>0</td>\n",
       "      <td>0.000000</td>\n",
       "      <td>NaN</td>\n",
       "      <td>NaN</td>\n",
       "      <td>NaN</td>\n",
       "      <td>NaN</td>\n",
       "      <td>0.0</td>\n",
       "      <td>NaN</td>\n",
       "      <td>NaN</td>\n",
       "      <td>...</td>\n",
       "      <td>0.0</td>\n",
       "      <td>NaN</td>\n",
       "      <td>NaN</td>\n",
       "      <td>NaN</td>\n",
       "      <td>NaN</td>\n",
       "      <td>0.0</td>\n",
       "      <td>NaN</td>\n",
       "      <td>NaN</td>\n",
       "      <td>NaN</td>\n",
       "      <td>0</td>\n",
       "    </tr>\n",
       "    <tr>\n",
       "      <th>1</th>\n",
       "      <td>146842</td>\n",
       "      <td>0</td>\n",
       "      <td>0.041033</td>\n",
       "      <td>NaN</td>\n",
       "      <td>NaN</td>\n",
       "      <td>NaN</td>\n",
       "      <td>NaN</td>\n",
       "      <td>0.0</td>\n",
       "      <td>0.166667</td>\n",
       "      <td>0.186107</td>\n",
       "      <td>...</td>\n",
       "      <td>0.0</td>\n",
       "      <td>NaN</td>\n",
       "      <td>NaN</td>\n",
       "      <td>NaN</td>\n",
       "      <td>NaN</td>\n",
       "      <td>0.0</td>\n",
       "      <td>NaN</td>\n",
       "      <td>NaN</td>\n",
       "      <td>NaN</td>\n",
       "      <td>0</td>\n",
       "    </tr>\n",
       "    <tr>\n",
       "      <th>2</th>\n",
       "      <td>146843</td>\n",
       "      <td>0</td>\n",
       "      <td>0.006915</td>\n",
       "      <td>0.0</td>\n",
       "      <td>NaN</td>\n",
       "      <td>0.0</td>\n",
       "      <td>0.0</td>\n",
       "      <td>0.0</td>\n",
       "      <td>NaN</td>\n",
       "      <td>NaN</td>\n",
       "      <td>...</td>\n",
       "      <td>0.0</td>\n",
       "      <td>NaN</td>\n",
       "      <td>NaN</td>\n",
       "      <td>NaN</td>\n",
       "      <td>NaN</td>\n",
       "      <td>0.0</td>\n",
       "      <td>NaN</td>\n",
       "      <td>NaN</td>\n",
       "      <td>NaN</td>\n",
       "      <td>0</td>\n",
       "    </tr>\n",
       "    <tr>\n",
       "      <th>3</th>\n",
       "      <td>146844</td>\n",
       "      <td>0</td>\n",
       "      <td>0.000000</td>\n",
       "      <td>NaN</td>\n",
       "      <td>NaN</td>\n",
       "      <td>NaN</td>\n",
       "      <td>NaN</td>\n",
       "      <td>0.0</td>\n",
       "      <td>NaN</td>\n",
       "      <td>NaN</td>\n",
       "      <td>...</td>\n",
       "      <td>0.0</td>\n",
       "      <td>NaN</td>\n",
       "      <td>NaN</td>\n",
       "      <td>NaN</td>\n",
       "      <td>NaN</td>\n",
       "      <td>0.0</td>\n",
       "      <td>NaN</td>\n",
       "      <td>NaN</td>\n",
       "      <td>NaN</td>\n",
       "      <td>0</td>\n",
       "    </tr>\n",
       "    <tr>\n",
       "      <th>4</th>\n",
       "      <td>146845</td>\n",
       "      <td>0</td>\n",
       "      <td>0.000000</td>\n",
       "      <td>NaN</td>\n",
       "      <td>NaN</td>\n",
       "      <td>NaN</td>\n",
       "      <td>NaN</td>\n",
       "      <td>0.0</td>\n",
       "      <td>NaN</td>\n",
       "      <td>NaN</td>\n",
       "      <td>...</td>\n",
       "      <td>0.0</td>\n",
       "      <td>NaN</td>\n",
       "      <td>NaN</td>\n",
       "      <td>NaN</td>\n",
       "      <td>NaN</td>\n",
       "      <td>0.0</td>\n",
       "      <td>NaN</td>\n",
       "      <td>NaN</td>\n",
       "      <td>NaN</td>\n",
       "      <td>0</td>\n",
       "    </tr>\n",
       "  </tbody>\n",
       "</table>\n",
       "<p>5 rows × 116 columns</p>\n",
       "</div>"
      ],
      "text/plain": [
       "       ID  CR_PROD_CNT_IL  AMOUNT_RUB_CLO_PRC  PRC_ACCEPTS_A_EMAIL_LINK  \\\n",
       "0  146841               0            0.000000                       NaN   \n",
       "1  146842               0            0.041033                       NaN   \n",
       "2  146843               0            0.006915                       0.0   \n",
       "3  146844               0            0.000000                       NaN   \n",
       "4  146845               0            0.000000                       NaN   \n",
       "\n",
       "   APP_REGISTR_RGN_CODE  PRC_ACCEPTS_A_POS  PRC_ACCEPTS_A_TK  \\\n",
       "0                   NaN                NaN               NaN   \n",
       "1                   NaN                NaN               NaN   \n",
       "2                   NaN                0.0               0.0   \n",
       "3                   NaN                NaN               NaN   \n",
       "4                   NaN                NaN               NaN   \n",
       "\n",
       "   TURNOVER_DYNAMIC_IL_1M  CNT_TRAN_AUT_TENDENCY1M  SUM_TRAN_AUT_TENDENCY1M  \\\n",
       "0                     0.0                      NaN                      NaN   \n",
       "1                     0.0                 0.166667                 0.186107   \n",
       "2                     0.0                      NaN                      NaN   \n",
       "3                     0.0                      NaN                      NaN   \n",
       "4                     0.0                      NaN                      NaN   \n",
       "\n",
       "   ...  REST_DYNAMIC_CC_3M  MED_DEBT_PRC_YWZ  LDEAL_ACT_DAYS_PCT_TR3  \\\n",
       "0  ...                 0.0               NaN                     NaN   \n",
       "1  ...                 0.0               NaN                     NaN   \n",
       "2  ...                 0.0               NaN                     NaN   \n",
       "3  ...                 0.0               NaN                     NaN   \n",
       "4  ...                 0.0               NaN                     NaN   \n",
       "\n",
       "  LDEAL_ACT_DAYS_PCT_AAVG  LDEAL_DELINQ_PER_MAXYWZ  TURNOVER_DYNAMIC_CC_3M  \\\n",
       "0                     NaN                      NaN                     0.0   \n",
       "1                     NaN                      NaN                     0.0   \n",
       "2                     NaN                      NaN                     0.0   \n",
       "3                     NaN                      NaN                     0.0   \n",
       "4                     NaN                      NaN                     0.0   \n",
       "\n",
       "   LDEAL_ACT_DAYS_PCT_TR  LDEAL_ACT_DAYS_PCT_TR4  LDEAL_ACT_DAYS_PCT_CURR  \\\n",
       "0                    NaN                     NaN                      NaN   \n",
       "1                    NaN                     NaN                      NaN   \n",
       "2                    NaN                     NaN                      NaN   \n",
       "3                    NaN                     NaN                      NaN   \n",
       "4                    NaN                     NaN                      NaN   \n",
       "\n",
       "  TARGET  \n",
       "0      0  \n",
       "1      0  \n",
       "2      0  \n",
       "3      0  \n",
       "4      0  \n",
       "\n",
       "[5 rows x 116 columns]"
      ]
     },
     "execution_count": 3,
     "metadata": {},
     "output_type": "execute_result"
    }
   ],
   "source": [
    "train_data = 'datasets/bank_data_train.csv'\n",
    "df = pd.read_csv(train_data)\n",
    "df.head()"
   ]
  },
  {
   "cell_type": "code",
   "execution_count": 4,
   "metadata": {},
   "outputs": [
    {
     "data": {
      "text/html": [
       "<div>\n",
       "<style scoped>\n",
       "    .dataframe tbody tr th:only-of-type {\n",
       "        vertical-align: middle;\n",
       "    }\n",
       "\n",
       "    .dataframe tbody tr th {\n",
       "        vertical-align: top;\n",
       "    }\n",
       "\n",
       "    .dataframe thead th {\n",
       "        text-align: right;\n",
       "    }\n",
       "</style>\n",
       "<table border=\"1\" class=\"dataframe\">\n",
       "  <thead>\n",
       "    <tr style=\"text-align: right;\">\n",
       "      <th></th>\n",
       "      <th>ID</th>\n",
       "      <th>CR_PROD_CNT_IL</th>\n",
       "      <th>AMOUNT_RUB_CLO_PRC</th>\n",
       "      <th>PRC_ACCEPTS_A_EMAIL_LINK</th>\n",
       "      <th>APP_REGISTR_RGN_CODE</th>\n",
       "      <th>PRC_ACCEPTS_A_POS</th>\n",
       "      <th>PRC_ACCEPTS_A_TK</th>\n",
       "      <th>TURNOVER_DYNAMIC_IL_1M</th>\n",
       "      <th>CNT_TRAN_AUT_TENDENCY1M</th>\n",
       "      <th>SUM_TRAN_AUT_TENDENCY1M</th>\n",
       "      <th>...</th>\n",
       "      <th>REST_DYNAMIC_CC_3M</th>\n",
       "      <th>MED_DEBT_PRC_YWZ</th>\n",
       "      <th>LDEAL_ACT_DAYS_PCT_TR3</th>\n",
       "      <th>LDEAL_ACT_DAYS_PCT_AAVG</th>\n",
       "      <th>LDEAL_DELINQ_PER_MAXYWZ</th>\n",
       "      <th>TURNOVER_DYNAMIC_CC_3M</th>\n",
       "      <th>LDEAL_ACT_DAYS_PCT_TR</th>\n",
       "      <th>LDEAL_ACT_DAYS_PCT_TR4</th>\n",
       "      <th>LDEAL_ACT_DAYS_PCT_CURR</th>\n",
       "      <th>TARGET</th>\n",
       "    </tr>\n",
       "  </thead>\n",
       "  <tbody>\n",
       "    <tr>\n",
       "      <th>count</th>\n",
       "      <td>355190.000000</td>\n",
       "      <td>355190.000000</td>\n",
       "      <td>316867.000000</td>\n",
       "      <td>155163.0</td>\n",
       "      <td>60550.000000</td>\n",
       "      <td>155163.0</td>\n",
       "      <td>155163.0</td>\n",
       "      <td>355190.000000</td>\n",
       "      <td>77112.000000</td>\n",
       "      <td>77112.000000</td>\n",
       "      <td>...</td>\n",
       "      <td>355190.000000</td>\n",
       "      <td>95713.000000</td>\n",
       "      <td>93448.000000</td>\n",
       "      <td>98175.000000</td>\n",
       "      <td>95713.000000</td>\n",
       "      <td>355190.000000</td>\n",
       "      <td>93448.000000</td>\n",
       "      <td>93448.000000</td>\n",
       "      <td>93448.000000</td>\n",
       "      <td>355190.000000</td>\n",
       "    </tr>\n",
       "    <tr>\n",
       "      <th>mean</th>\n",
       "      <td>368794.674875</td>\n",
       "      <td>0.105225</td>\n",
       "      <td>0.044045</td>\n",
       "      <td>0.0</td>\n",
       "      <td>50.947498</td>\n",
       "      <td>0.0</td>\n",
       "      <td>0.0</td>\n",
       "      <td>0.001305</td>\n",
       "      <td>0.416896</td>\n",
       "      <td>0.414572</td>\n",
       "      <td>...</td>\n",
       "      <td>0.007309</td>\n",
       "      <td>0.055074</td>\n",
       "      <td>0.025707</td>\n",
       "      <td>0.049943</td>\n",
       "      <td>0.009252</td>\n",
       "      <td>0.004309</td>\n",
       "      <td>0.013938</td>\n",
       "      <td>0.013938</td>\n",
       "      <td>0.013938</td>\n",
       "      <td>0.081435</td>\n",
       "    </tr>\n",
       "    <tr>\n",
       "      <th>std</th>\n",
       "      <td>128148.804566</td>\n",
       "      <td>0.431372</td>\n",
       "      <td>0.108449</td>\n",
       "      <td>0.0</td>\n",
       "      <td>21.777855</td>\n",
       "      <td>0.0</td>\n",
       "      <td>0.0</td>\n",
       "      <td>0.029118</td>\n",
       "      <td>0.316493</td>\n",
       "      <td>0.338612</td>\n",
       "      <td>...</td>\n",
       "      <td>0.066681</td>\n",
       "      <td>0.215909</td>\n",
       "      <td>0.115732</td>\n",
       "      <td>0.185830</td>\n",
       "      <td>0.092789</td>\n",
       "      <td>0.059852</td>\n",
       "      <td>0.097099</td>\n",
       "      <td>0.097099</td>\n",
       "      <td>0.097099</td>\n",
       "      <td>0.273503</td>\n",
       "    </tr>\n",
       "    <tr>\n",
       "      <th>min</th>\n",
       "      <td>146841.000000</td>\n",
       "      <td>0.000000</td>\n",
       "      <td>0.000000</td>\n",
       "      <td>0.0</td>\n",
       "      <td>0.000000</td>\n",
       "      <td>0.0</td>\n",
       "      <td>0.0</td>\n",
       "      <td>0.000000</td>\n",
       "      <td>0.006944</td>\n",
       "      <td>0.000000</td>\n",
       "      <td>...</td>\n",
       "      <td>0.000000</td>\n",
       "      <td>0.000000</td>\n",
       "      <td>0.000000</td>\n",
       "      <td>0.000000</td>\n",
       "      <td>0.000000</td>\n",
       "      <td>0.000000</td>\n",
       "      <td>0.000000</td>\n",
       "      <td>0.000000</td>\n",
       "      <td>0.000000</td>\n",
       "      <td>0.000000</td>\n",
       "    </tr>\n",
       "    <tr>\n",
       "      <th>25%</th>\n",
       "      <td>257846.250000</td>\n",
       "      <td>0.000000</td>\n",
       "      <td>0.000000</td>\n",
       "      <td>0.0</td>\n",
       "      <td>33.000000</td>\n",
       "      <td>0.0</td>\n",
       "      <td>0.0</td>\n",
       "      <td>0.000000</td>\n",
       "      <td>0.166667</td>\n",
       "      <td>0.139645</td>\n",
       "      <td>...</td>\n",
       "      <td>0.000000</td>\n",
       "      <td>0.000000</td>\n",
       "      <td>0.000000</td>\n",
       "      <td>0.000000</td>\n",
       "      <td>0.000000</td>\n",
       "      <td>0.000000</td>\n",
       "      <td>0.000000</td>\n",
       "      <td>0.000000</td>\n",
       "      <td>0.000000</td>\n",
       "      <td>0.000000</td>\n",
       "    </tr>\n",
       "    <tr>\n",
       "      <th>50%</th>\n",
       "      <td>368778.500000</td>\n",
       "      <td>0.000000</td>\n",
       "      <td>0.000000</td>\n",
       "      <td>0.0</td>\n",
       "      <td>54.000000</td>\n",
       "      <td>0.0</td>\n",
       "      <td>0.0</td>\n",
       "      <td>0.000000</td>\n",
       "      <td>0.300000</td>\n",
       "      <td>0.285714</td>\n",
       "      <td>...</td>\n",
       "      <td>0.000000</td>\n",
       "      <td>0.000000</td>\n",
       "      <td>0.000000</td>\n",
       "      <td>0.000000</td>\n",
       "      <td>0.000000</td>\n",
       "      <td>0.000000</td>\n",
       "      <td>0.000000</td>\n",
       "      <td>0.000000</td>\n",
       "      <td>0.000000</td>\n",
       "      <td>0.000000</td>\n",
       "    </tr>\n",
       "    <tr>\n",
       "      <th>75%</th>\n",
       "      <td>479737.750000</td>\n",
       "      <td>0.000000</td>\n",
       "      <td>0.036608</td>\n",
       "      <td>0.0</td>\n",
       "      <td>72.000000</td>\n",
       "      <td>0.0</td>\n",
       "      <td>0.0</td>\n",
       "      <td>0.000000</td>\n",
       "      <td>0.571429</td>\n",
       "      <td>0.661195</td>\n",
       "      <td>...</td>\n",
       "      <td>0.000000</td>\n",
       "      <td>0.000000</td>\n",
       "      <td>0.000000</td>\n",
       "      <td>0.000000</td>\n",
       "      <td>0.000000</td>\n",
       "      <td>0.000000</td>\n",
       "      <td>0.000000</td>\n",
       "      <td>0.000000</td>\n",
       "      <td>0.000000</td>\n",
       "      <td>0.000000</td>\n",
       "    </tr>\n",
       "    <tr>\n",
       "      <th>max</th>\n",
       "      <td>590828.000000</td>\n",
       "      <td>11.000000</td>\n",
       "      <td>1.000000</td>\n",
       "      <td>0.0</td>\n",
       "      <td>89.000000</td>\n",
       "      <td>0.0</td>\n",
       "      <td>0.0</td>\n",
       "      <td>1.000000</td>\n",
       "      <td>1.000000</td>\n",
       "      <td>1.000000</td>\n",
       "      <td>...</td>\n",
       "      <td>1.000000</td>\n",
       "      <td>1.000000</td>\n",
       "      <td>1.000000</td>\n",
       "      <td>1.000000</td>\n",
       "      <td>1.000000</td>\n",
       "      <td>1.000000</td>\n",
       "      <td>1.000000</td>\n",
       "      <td>1.000000</td>\n",
       "      <td>1.000000</td>\n",
       "      <td>1.000000</td>\n",
       "    </tr>\n",
       "  </tbody>\n",
       "</table>\n",
       "<p>8 rows × 103 columns</p>\n",
       "</div>"
      ],
      "text/plain": [
       "                  ID  CR_PROD_CNT_IL  AMOUNT_RUB_CLO_PRC  \\\n",
       "count  355190.000000   355190.000000       316867.000000   \n",
       "mean   368794.674875        0.105225            0.044045   \n",
       "std    128148.804566        0.431372            0.108449   \n",
       "min    146841.000000        0.000000            0.000000   \n",
       "25%    257846.250000        0.000000            0.000000   \n",
       "50%    368778.500000        0.000000            0.000000   \n",
       "75%    479737.750000        0.000000            0.036608   \n",
       "max    590828.000000       11.000000            1.000000   \n",
       "\n",
       "       PRC_ACCEPTS_A_EMAIL_LINK  APP_REGISTR_RGN_CODE  PRC_ACCEPTS_A_POS  \\\n",
       "count                  155163.0          60550.000000           155163.0   \n",
       "mean                        0.0             50.947498                0.0   \n",
       "std                         0.0             21.777855                0.0   \n",
       "min                         0.0              0.000000                0.0   \n",
       "25%                         0.0             33.000000                0.0   \n",
       "50%                         0.0             54.000000                0.0   \n",
       "75%                         0.0             72.000000                0.0   \n",
       "max                         0.0             89.000000                0.0   \n",
       "\n",
       "       PRC_ACCEPTS_A_TK  TURNOVER_DYNAMIC_IL_1M  CNT_TRAN_AUT_TENDENCY1M  \\\n",
       "count          155163.0           355190.000000             77112.000000   \n",
       "mean                0.0                0.001305                 0.416896   \n",
       "std                 0.0                0.029118                 0.316493   \n",
       "min                 0.0                0.000000                 0.006944   \n",
       "25%                 0.0                0.000000                 0.166667   \n",
       "50%                 0.0                0.000000                 0.300000   \n",
       "75%                 0.0                0.000000                 0.571429   \n",
       "max                 0.0                1.000000                 1.000000   \n",
       "\n",
       "       SUM_TRAN_AUT_TENDENCY1M  ...  REST_DYNAMIC_CC_3M  MED_DEBT_PRC_YWZ  \\\n",
       "count             77112.000000  ...       355190.000000      95713.000000   \n",
       "mean                  0.414572  ...            0.007309          0.055074   \n",
       "std                   0.338612  ...            0.066681          0.215909   \n",
       "min                   0.000000  ...            0.000000          0.000000   \n",
       "25%                   0.139645  ...            0.000000          0.000000   \n",
       "50%                   0.285714  ...            0.000000          0.000000   \n",
       "75%                   0.661195  ...            0.000000          0.000000   \n",
       "max                   1.000000  ...            1.000000          1.000000   \n",
       "\n",
       "       LDEAL_ACT_DAYS_PCT_TR3  LDEAL_ACT_DAYS_PCT_AAVG  \\\n",
       "count            93448.000000             98175.000000   \n",
       "mean                 0.025707                 0.049943   \n",
       "std                  0.115732                 0.185830   \n",
       "min                  0.000000                 0.000000   \n",
       "25%                  0.000000                 0.000000   \n",
       "50%                  0.000000                 0.000000   \n",
       "75%                  0.000000                 0.000000   \n",
       "max                  1.000000                 1.000000   \n",
       "\n",
       "       LDEAL_DELINQ_PER_MAXYWZ  TURNOVER_DYNAMIC_CC_3M  LDEAL_ACT_DAYS_PCT_TR  \\\n",
       "count             95713.000000           355190.000000           93448.000000   \n",
       "mean                  0.009252                0.004309               0.013938   \n",
       "std                   0.092789                0.059852               0.097099   \n",
       "min                   0.000000                0.000000               0.000000   \n",
       "25%                   0.000000                0.000000               0.000000   \n",
       "50%                   0.000000                0.000000               0.000000   \n",
       "75%                   0.000000                0.000000               0.000000   \n",
       "max                   1.000000                1.000000               1.000000   \n",
       "\n",
       "       LDEAL_ACT_DAYS_PCT_TR4  LDEAL_ACT_DAYS_PCT_CURR         TARGET  \n",
       "count            93448.000000             93448.000000  355190.000000  \n",
       "mean                 0.013938                 0.013938       0.081435  \n",
       "std                  0.097099                 0.097099       0.273503  \n",
       "min                  0.000000                 0.000000       0.000000  \n",
       "25%                  0.000000                 0.000000       0.000000  \n",
       "50%                  0.000000                 0.000000       0.000000  \n",
       "75%                  0.000000                 0.000000       0.000000  \n",
       "max                  1.000000                 1.000000       1.000000  \n",
       "\n",
       "[8 rows x 103 columns]"
      ]
     },
     "execution_count": 4,
     "metadata": {},
     "output_type": "execute_result"
    }
   ],
   "source": [
    "df.describe()"
   ]
  },
  {
   "cell_type": "code",
   "execution_count": 5,
   "metadata": {},
   "outputs": [
    {
     "name": "stdout",
     "output_type": "stream",
     "text": [
      "<class 'pandas.core.frame.DataFrame'>\n",
      "RangeIndex: 355190 entries, 0 to 355189\n",
      "Columns: 116 entries, ID to TARGET\n",
      "dtypes: float64(94), int64(9), object(13)\n",
      "memory usage: 314.3+ MB\n"
     ]
    }
   ],
   "source": [
    "df.info()"
   ]
  },
  {
   "cell_type": "code",
   "execution_count": 6,
   "metadata": {},
   "outputs": [
    {
     "data": {
      "text/plain": [
       "ID                               0\n",
       "CR_PROD_CNT_IL                   0\n",
       "AMOUNT_RUB_CLO_PRC           38323\n",
       "PRC_ACCEPTS_A_EMAIL_LINK    200027\n",
       "APP_REGISTR_RGN_CODE        294640\n",
       "                             ...  \n",
       "TURNOVER_DYNAMIC_CC_3M           0\n",
       "LDEAL_ACT_DAYS_PCT_TR       261742\n",
       "LDEAL_ACT_DAYS_PCT_TR4      261742\n",
       "LDEAL_ACT_DAYS_PCT_CURR     261742\n",
       "TARGET                           0\n",
       "Length: 116, dtype: int64"
      ]
     },
     "execution_count": 6,
     "metadata": {},
     "output_type": "execute_result"
    }
   ],
   "source": [
    "na_stat = df.isna().sum()\n",
    "na_stat"
   ]
  },
  {
   "cell_type": "code",
   "execution_count": 7,
   "metadata": {},
   "outputs": [
    {
     "data": {
      "text/plain": [
       "66"
      ]
     },
     "execution_count": 7,
     "metadata": {},
     "output_type": "execute_result"
    }
   ],
   "source": [
    "amount = df.shape[0]\n",
    "threshold_to_delete = 0.5 * amount\n",
    "del_cols = [index for index in na_stat.index if na_stat[index] >= threshold_to_delete]\n",
    "del_cols.append('ID')\n",
    "len(del_cols)"
   ]
  },
  {
   "cell_type": "code",
   "execution_count": 8,
   "metadata": {},
   "outputs": [
    {
     "data": {
      "text/html": [
       "<div>\n",
       "<style scoped>\n",
       "    .dataframe tbody tr th:only-of-type {\n",
       "        vertical-align: middle;\n",
       "    }\n",
       "\n",
       "    .dataframe tbody tr th {\n",
       "        vertical-align: top;\n",
       "    }\n",
       "\n",
       "    .dataframe thead th {\n",
       "        text-align: right;\n",
       "    }\n",
       "</style>\n",
       "<table border=\"1\" class=\"dataframe\">\n",
       "  <thead>\n",
       "    <tr style=\"text-align: right;\">\n",
       "      <th></th>\n",
       "      <th>ID</th>\n",
       "      <th>CR_PROD_CNT_IL</th>\n",
       "      <th>AMOUNT_RUB_CLO_PRC</th>\n",
       "      <th>PRC_ACCEPTS_A_EMAIL_LINK</th>\n",
       "      <th>APP_REGISTR_RGN_CODE</th>\n",
       "      <th>PRC_ACCEPTS_A_POS</th>\n",
       "      <th>PRC_ACCEPTS_A_TK</th>\n",
       "      <th>TURNOVER_DYNAMIC_IL_1M</th>\n",
       "      <th>CNT_TRAN_AUT_TENDENCY1M</th>\n",
       "      <th>SUM_TRAN_AUT_TENDENCY1M</th>\n",
       "      <th>...</th>\n",
       "      <th>REST_DYNAMIC_CC_3M</th>\n",
       "      <th>MED_DEBT_PRC_YWZ</th>\n",
       "      <th>LDEAL_ACT_DAYS_PCT_TR3</th>\n",
       "      <th>LDEAL_ACT_DAYS_PCT_AAVG</th>\n",
       "      <th>LDEAL_DELINQ_PER_MAXYWZ</th>\n",
       "      <th>TURNOVER_DYNAMIC_CC_3M</th>\n",
       "      <th>LDEAL_ACT_DAYS_PCT_TR</th>\n",
       "      <th>LDEAL_ACT_DAYS_PCT_TR4</th>\n",
       "      <th>LDEAL_ACT_DAYS_PCT_CURR</th>\n",
       "      <th>TARGET</th>\n",
       "    </tr>\n",
       "  </thead>\n",
       "  <tbody>\n",
       "    <tr>\n",
       "      <th>0</th>\n",
       "      <td>146841</td>\n",
       "      <td>0</td>\n",
       "      <td>0.000000</td>\n",
       "      <td>NaN</td>\n",
       "      <td>NaN</td>\n",
       "      <td>NaN</td>\n",
       "      <td>NaN</td>\n",
       "      <td>0.0</td>\n",
       "      <td>NaN</td>\n",
       "      <td>NaN</td>\n",
       "      <td>...</td>\n",
       "      <td>0.0</td>\n",
       "      <td>NaN</td>\n",
       "      <td>NaN</td>\n",
       "      <td>NaN</td>\n",
       "      <td>NaN</td>\n",
       "      <td>0.0</td>\n",
       "      <td>NaN</td>\n",
       "      <td>NaN</td>\n",
       "      <td>NaN</td>\n",
       "      <td>0</td>\n",
       "    </tr>\n",
       "    <tr>\n",
       "      <th>1</th>\n",
       "      <td>146842</td>\n",
       "      <td>0</td>\n",
       "      <td>0.041033</td>\n",
       "      <td>NaN</td>\n",
       "      <td>NaN</td>\n",
       "      <td>NaN</td>\n",
       "      <td>NaN</td>\n",
       "      <td>0.0</td>\n",
       "      <td>0.166667</td>\n",
       "      <td>0.186107</td>\n",
       "      <td>...</td>\n",
       "      <td>0.0</td>\n",
       "      <td>NaN</td>\n",
       "      <td>NaN</td>\n",
       "      <td>NaN</td>\n",
       "      <td>NaN</td>\n",
       "      <td>0.0</td>\n",
       "      <td>NaN</td>\n",
       "      <td>NaN</td>\n",
       "      <td>NaN</td>\n",
       "      <td>0</td>\n",
       "    </tr>\n",
       "    <tr>\n",
       "      <th>2</th>\n",
       "      <td>146843</td>\n",
       "      <td>0</td>\n",
       "      <td>0.006915</td>\n",
       "      <td>0.0</td>\n",
       "      <td>NaN</td>\n",
       "      <td>0.0</td>\n",
       "      <td>0.0</td>\n",
       "      <td>0.0</td>\n",
       "      <td>NaN</td>\n",
       "      <td>NaN</td>\n",
       "      <td>...</td>\n",
       "      <td>0.0</td>\n",
       "      <td>NaN</td>\n",
       "      <td>NaN</td>\n",
       "      <td>NaN</td>\n",
       "      <td>NaN</td>\n",
       "      <td>0.0</td>\n",
       "      <td>NaN</td>\n",
       "      <td>NaN</td>\n",
       "      <td>NaN</td>\n",
       "      <td>0</td>\n",
       "    </tr>\n",
       "    <tr>\n",
       "      <th>3</th>\n",
       "      <td>146844</td>\n",
       "      <td>0</td>\n",
       "      <td>0.000000</td>\n",
       "      <td>NaN</td>\n",
       "      <td>NaN</td>\n",
       "      <td>NaN</td>\n",
       "      <td>NaN</td>\n",
       "      <td>0.0</td>\n",
       "      <td>NaN</td>\n",
       "      <td>NaN</td>\n",
       "      <td>...</td>\n",
       "      <td>0.0</td>\n",
       "      <td>NaN</td>\n",
       "      <td>NaN</td>\n",
       "      <td>NaN</td>\n",
       "      <td>NaN</td>\n",
       "      <td>0.0</td>\n",
       "      <td>NaN</td>\n",
       "      <td>NaN</td>\n",
       "      <td>NaN</td>\n",
       "      <td>0</td>\n",
       "    </tr>\n",
       "    <tr>\n",
       "      <th>4</th>\n",
       "      <td>146845</td>\n",
       "      <td>0</td>\n",
       "      <td>0.000000</td>\n",
       "      <td>NaN</td>\n",
       "      <td>NaN</td>\n",
       "      <td>NaN</td>\n",
       "      <td>NaN</td>\n",
       "      <td>0.0</td>\n",
       "      <td>NaN</td>\n",
       "      <td>NaN</td>\n",
       "      <td>...</td>\n",
       "      <td>0.0</td>\n",
       "      <td>NaN</td>\n",
       "      <td>NaN</td>\n",
       "      <td>NaN</td>\n",
       "      <td>NaN</td>\n",
       "      <td>0.0</td>\n",
       "      <td>NaN</td>\n",
       "      <td>NaN</td>\n",
       "      <td>NaN</td>\n",
       "      <td>0</td>\n",
       "    </tr>\n",
       "    <tr>\n",
       "      <th>...</th>\n",
       "      <td>...</td>\n",
       "      <td>...</td>\n",
       "      <td>...</td>\n",
       "      <td>...</td>\n",
       "      <td>...</td>\n",
       "      <td>...</td>\n",
       "      <td>...</td>\n",
       "      <td>...</td>\n",
       "      <td>...</td>\n",
       "      <td>...</td>\n",
       "      <td>...</td>\n",
       "      <td>...</td>\n",
       "      <td>...</td>\n",
       "      <td>...</td>\n",
       "      <td>...</td>\n",
       "      <td>...</td>\n",
       "      <td>...</td>\n",
       "      <td>...</td>\n",
       "      <td>...</td>\n",
       "      <td>...</td>\n",
       "      <td>...</td>\n",
       "    </tr>\n",
       "    <tr>\n",
       "      <th>355185</th>\n",
       "      <td>590822</td>\n",
       "      <td>0</td>\n",
       "      <td>0.000000</td>\n",
       "      <td>0.0</td>\n",
       "      <td>NaN</td>\n",
       "      <td>0.0</td>\n",
       "      <td>0.0</td>\n",
       "      <td>0.0</td>\n",
       "      <td>0.142857</td>\n",
       "      <td>0.123579</td>\n",
       "      <td>...</td>\n",
       "      <td>0.0</td>\n",
       "      <td>0.0</td>\n",
       "      <td>0.0</td>\n",
       "      <td>0.0</td>\n",
       "      <td>0.0</td>\n",
       "      <td>0.0</td>\n",
       "      <td>0.0</td>\n",
       "      <td>0.0</td>\n",
       "      <td>0.0</td>\n",
       "      <td>0</td>\n",
       "    </tr>\n",
       "    <tr>\n",
       "      <th>355186</th>\n",
       "      <td>590823</td>\n",
       "      <td>0</td>\n",
       "      <td>0.000000</td>\n",
       "      <td>0.0</td>\n",
       "      <td>NaN</td>\n",
       "      <td>0.0</td>\n",
       "      <td>0.0</td>\n",
       "      <td>0.0</td>\n",
       "      <td>NaN</td>\n",
       "      <td>NaN</td>\n",
       "      <td>...</td>\n",
       "      <td>0.0</td>\n",
       "      <td>NaN</td>\n",
       "      <td>NaN</td>\n",
       "      <td>NaN</td>\n",
       "      <td>NaN</td>\n",
       "      <td>0.0</td>\n",
       "      <td>NaN</td>\n",
       "      <td>NaN</td>\n",
       "      <td>NaN</td>\n",
       "      <td>0</td>\n",
       "    </tr>\n",
       "    <tr>\n",
       "      <th>355187</th>\n",
       "      <td>590825</td>\n",
       "      <td>0</td>\n",
       "      <td>0.041298</td>\n",
       "      <td>NaN</td>\n",
       "      <td>NaN</td>\n",
       "      <td>NaN</td>\n",
       "      <td>NaN</td>\n",
       "      <td>0.0</td>\n",
       "      <td>0.089286</td>\n",
       "      <td>0.065293</td>\n",
       "      <td>...</td>\n",
       "      <td>0.0</td>\n",
       "      <td>NaN</td>\n",
       "      <td>NaN</td>\n",
       "      <td>NaN</td>\n",
       "      <td>NaN</td>\n",
       "      <td>0.0</td>\n",
       "      <td>NaN</td>\n",
       "      <td>NaN</td>\n",
       "      <td>NaN</td>\n",
       "      <td>0</td>\n",
       "    </tr>\n",
       "    <tr>\n",
       "      <th>355188</th>\n",
       "      <td>590826</td>\n",
       "      <td>0</td>\n",
       "      <td>0.000000</td>\n",
       "      <td>NaN</td>\n",
       "      <td>NaN</td>\n",
       "      <td>NaN</td>\n",
       "      <td>NaN</td>\n",
       "      <td>0.0</td>\n",
       "      <td>NaN</td>\n",
       "      <td>NaN</td>\n",
       "      <td>...</td>\n",
       "      <td>0.0</td>\n",
       "      <td>NaN</td>\n",
       "      <td>NaN</td>\n",
       "      <td>NaN</td>\n",
       "      <td>NaN</td>\n",
       "      <td>0.0</td>\n",
       "      <td>NaN</td>\n",
       "      <td>NaN</td>\n",
       "      <td>NaN</td>\n",
       "      <td>0</td>\n",
       "    </tr>\n",
       "    <tr>\n",
       "      <th>355189</th>\n",
       "      <td>590828</td>\n",
       "      <td>0</td>\n",
       "      <td>0.000000</td>\n",
       "      <td>NaN</td>\n",
       "      <td>NaN</td>\n",
       "      <td>NaN</td>\n",
       "      <td>NaN</td>\n",
       "      <td>0.0</td>\n",
       "      <td>NaN</td>\n",
       "      <td>NaN</td>\n",
       "      <td>...</td>\n",
       "      <td>0.0</td>\n",
       "      <td>1.0</td>\n",
       "      <td>1.0</td>\n",
       "      <td>1.0</td>\n",
       "      <td>0.0</td>\n",
       "      <td>0.0</td>\n",
       "      <td>1.0</td>\n",
       "      <td>1.0</td>\n",
       "      <td>1.0</td>\n",
       "      <td>1</td>\n",
       "    </tr>\n",
       "  </tbody>\n",
       "</table>\n",
       "<p>355190 rows × 116 columns</p>\n",
       "</div>"
      ],
      "text/plain": [
       "            ID  CR_PROD_CNT_IL  AMOUNT_RUB_CLO_PRC  PRC_ACCEPTS_A_EMAIL_LINK  \\\n",
       "0       146841               0            0.000000                       NaN   \n",
       "1       146842               0            0.041033                       NaN   \n",
       "2       146843               0            0.006915                       0.0   \n",
       "3       146844               0            0.000000                       NaN   \n",
       "4       146845               0            0.000000                       NaN   \n",
       "...        ...             ...                 ...                       ...   \n",
       "355185  590822               0            0.000000                       0.0   \n",
       "355186  590823               0            0.000000                       0.0   \n",
       "355187  590825               0            0.041298                       NaN   \n",
       "355188  590826               0            0.000000                       NaN   \n",
       "355189  590828               0            0.000000                       NaN   \n",
       "\n",
       "        APP_REGISTR_RGN_CODE  PRC_ACCEPTS_A_POS  PRC_ACCEPTS_A_TK  \\\n",
       "0                        NaN                NaN               NaN   \n",
       "1                        NaN                NaN               NaN   \n",
       "2                        NaN                0.0               0.0   \n",
       "3                        NaN                NaN               NaN   \n",
       "4                        NaN                NaN               NaN   \n",
       "...                      ...                ...               ...   \n",
       "355185                   NaN                0.0               0.0   \n",
       "355186                   NaN                0.0               0.0   \n",
       "355187                   NaN                NaN               NaN   \n",
       "355188                   NaN                NaN               NaN   \n",
       "355189                   NaN                NaN               NaN   \n",
       "\n",
       "        TURNOVER_DYNAMIC_IL_1M  CNT_TRAN_AUT_TENDENCY1M  \\\n",
       "0                          0.0                      NaN   \n",
       "1                          0.0                 0.166667   \n",
       "2                          0.0                      NaN   \n",
       "3                          0.0                      NaN   \n",
       "4                          0.0                      NaN   \n",
       "...                        ...                      ...   \n",
       "355185                     0.0                 0.142857   \n",
       "355186                     0.0                      NaN   \n",
       "355187                     0.0                 0.089286   \n",
       "355188                     0.0                      NaN   \n",
       "355189                     0.0                      NaN   \n",
       "\n",
       "        SUM_TRAN_AUT_TENDENCY1M  ...  REST_DYNAMIC_CC_3M  MED_DEBT_PRC_YWZ  \\\n",
       "0                           NaN  ...                 0.0               NaN   \n",
       "1                      0.186107  ...                 0.0               NaN   \n",
       "2                           NaN  ...                 0.0               NaN   \n",
       "3                           NaN  ...                 0.0               NaN   \n",
       "4                           NaN  ...                 0.0               NaN   \n",
       "...                         ...  ...                 ...               ...   \n",
       "355185                 0.123579  ...                 0.0               0.0   \n",
       "355186                      NaN  ...                 0.0               NaN   \n",
       "355187                 0.065293  ...                 0.0               NaN   \n",
       "355188                      NaN  ...                 0.0               NaN   \n",
       "355189                      NaN  ...                 0.0               1.0   \n",
       "\n",
       "        LDEAL_ACT_DAYS_PCT_TR3 LDEAL_ACT_DAYS_PCT_AAVG  \\\n",
       "0                          NaN                     NaN   \n",
       "1                          NaN                     NaN   \n",
       "2                          NaN                     NaN   \n",
       "3                          NaN                     NaN   \n",
       "4                          NaN                     NaN   \n",
       "...                        ...                     ...   \n",
       "355185                     0.0                     0.0   \n",
       "355186                     NaN                     NaN   \n",
       "355187                     NaN                     NaN   \n",
       "355188                     NaN                     NaN   \n",
       "355189                     1.0                     1.0   \n",
       "\n",
       "        LDEAL_DELINQ_PER_MAXYWZ  TURNOVER_DYNAMIC_CC_3M  \\\n",
       "0                           NaN                     0.0   \n",
       "1                           NaN                     0.0   \n",
       "2                           NaN                     0.0   \n",
       "3                           NaN                     0.0   \n",
       "4                           NaN                     0.0   \n",
       "...                         ...                     ...   \n",
       "355185                      0.0                     0.0   \n",
       "355186                      NaN                     0.0   \n",
       "355187                      NaN                     0.0   \n",
       "355188                      NaN                     0.0   \n",
       "355189                      0.0                     0.0   \n",
       "\n",
       "        LDEAL_ACT_DAYS_PCT_TR  LDEAL_ACT_DAYS_PCT_TR4  \\\n",
       "0                         NaN                     NaN   \n",
       "1                         NaN                     NaN   \n",
       "2                         NaN                     NaN   \n",
       "3                         NaN                     NaN   \n",
       "4                         NaN                     NaN   \n",
       "...                       ...                     ...   \n",
       "355185                    0.0                     0.0   \n",
       "355186                    NaN                     NaN   \n",
       "355187                    NaN                     NaN   \n",
       "355188                    NaN                     NaN   \n",
       "355189                    1.0                     1.0   \n",
       "\n",
       "        LDEAL_ACT_DAYS_PCT_CURR TARGET  \n",
       "0                           NaN      0  \n",
       "1                           NaN      0  \n",
       "2                           NaN      0  \n",
       "3                           NaN      0  \n",
       "4                           NaN      0  \n",
       "...                         ...    ...  \n",
       "355185                      0.0      0  \n",
       "355186                      NaN      0  \n",
       "355187                      NaN      0  \n",
       "355188                      NaN      0  \n",
       "355189                      1.0      1  \n",
       "\n",
       "[355190 rows x 116 columns]"
      ]
     },
     "execution_count": 8,
     "metadata": {},
     "output_type": "execute_result"
    }
   ],
   "source": [
    "df_ = df.drop(del_cols, axis=1)\n",
    "df"
   ]
  },
  {
   "cell_type": "code",
   "execution_count": 9,
   "metadata": {},
   "outputs": [
    {
     "data": {
      "text/html": [
       "<div>\n",
       "<style scoped>\n",
       "    .dataframe tbody tr th:only-of-type {\n",
       "        vertical-align: middle;\n",
       "    }\n",
       "\n",
       "    .dataframe tbody tr th {\n",
       "        vertical-align: top;\n",
       "    }\n",
       "\n",
       "    .dataframe thead th {\n",
       "        text-align: right;\n",
       "    }\n",
       "</style>\n",
       "<table border=\"1\" class=\"dataframe\">\n",
       "  <thead>\n",
       "    <tr style=\"text-align: right;\">\n",
       "      <th></th>\n",
       "      <th>CR_PROD_CNT_IL</th>\n",
       "      <th>AMOUNT_RUB_CLO_PRC</th>\n",
       "      <th>TURNOVER_DYNAMIC_IL_1M</th>\n",
       "      <th>AMOUNT_RUB_SUP_PRC</th>\n",
       "      <th>REST_DYNAMIC_FDEP_1M</th>\n",
       "      <th>REST_DYNAMIC_SAVE_3M</th>\n",
       "      <th>CR_PROD_CNT_VCU</th>\n",
       "      <th>REST_AVG_CUR</th>\n",
       "      <th>AMOUNT_RUB_NAS_PRC</th>\n",
       "      <th>TRANS_COUNT_SUP_PRC</th>\n",
       "      <th>...</th>\n",
       "      <th>CLNT_SETUP_TENOR</th>\n",
       "      <th>TURNOVER_DYNAMIC_PAYM_3M</th>\n",
       "      <th>TURNOVER_DYNAMIC_PAYM_1M</th>\n",
       "      <th>TRANS_AMOUNT_TENDENCY3M</th>\n",
       "      <th>TRANS_CNT_TENDENCY3M</th>\n",
       "      <th>REST_DYNAMIC_CC_1M</th>\n",
       "      <th>TURNOVER_DYNAMIC_CC_1M</th>\n",
       "      <th>REST_DYNAMIC_CC_3M</th>\n",
       "      <th>TURNOVER_DYNAMIC_CC_3M</th>\n",
       "      <th>TARGET</th>\n",
       "    </tr>\n",
       "  </thead>\n",
       "  <tbody>\n",
       "    <tr>\n",
       "      <th>count</th>\n",
       "      <td>355190.000000</td>\n",
       "      <td>316867.000000</td>\n",
       "      <td>355190.000000</td>\n",
       "      <td>316867.000000</td>\n",
       "      <td>355190.000000</td>\n",
       "      <td>355190.000000</td>\n",
       "      <td>355190.000000</td>\n",
       "      <td>3.551900e+05</td>\n",
       "      <td>316867.000000</td>\n",
       "      <td>316867.000000</td>\n",
       "      <td>...</td>\n",
       "      <td>355190.000000</td>\n",
       "      <td>355190.000000</td>\n",
       "      <td>355190.000000</td>\n",
       "      <td>303194.000000</td>\n",
       "      <td>303194.000000</td>\n",
       "      <td>355190.000000</td>\n",
       "      <td>355190.000000</td>\n",
       "      <td>355190.000000</td>\n",
       "      <td>355190.000000</td>\n",
       "      <td>355190.000000</td>\n",
       "    </tr>\n",
       "    <tr>\n",
       "      <th>mean</th>\n",
       "      <td>0.105225</td>\n",
       "      <td>0.044045</td>\n",
       "      <td>0.001305</td>\n",
       "      <td>0.085249</td>\n",
       "      <td>0.000723</td>\n",
       "      <td>0.063400</td>\n",
       "      <td>0.031214</td>\n",
       "      <td>6.635854e+04</td>\n",
       "      <td>0.023971</td>\n",
       "      <td>0.191057</td>\n",
       "      <td>...</td>\n",
       "      <td>4.377001</td>\n",
       "      <td>0.071906</td>\n",
       "      <td>0.025108</td>\n",
       "      <td>0.582237</td>\n",
       "      <td>0.597247</td>\n",
       "      <td>0.002191</td>\n",
       "      <td>0.000883</td>\n",
       "      <td>0.007309</td>\n",
       "      <td>0.004309</td>\n",
       "      <td>0.081435</td>\n",
       "    </tr>\n",
       "    <tr>\n",
       "      <th>std</th>\n",
       "      <td>0.431372</td>\n",
       "      <td>0.108449</td>\n",
       "      <td>0.029118</td>\n",
       "      <td>0.142310</td>\n",
       "      <td>0.014081</td>\n",
       "      <td>0.202963</td>\n",
       "      <td>0.184059</td>\n",
       "      <td>1.878598e+05</td>\n",
       "      <td>0.090774</td>\n",
       "      <td>0.195820</td>\n",
       "      <td>...</td>\n",
       "      <td>2.936530</td>\n",
       "      <td>0.206863</td>\n",
       "      <td>0.104482</td>\n",
       "      <td>0.282157</td>\n",
       "      <td>0.247131</td>\n",
       "      <td>0.026360</td>\n",
       "      <td>0.027321</td>\n",
       "      <td>0.066681</td>\n",
       "      <td>0.059852</td>\n",
       "      <td>0.273503</td>\n",
       "    </tr>\n",
       "    <tr>\n",
       "      <th>min</th>\n",
       "      <td>0.000000</td>\n",
       "      <td>0.000000</td>\n",
       "      <td>0.000000</td>\n",
       "      <td>0.000000</td>\n",
       "      <td>0.000000</td>\n",
       "      <td>0.000000</td>\n",
       "      <td>0.000000</td>\n",
       "      <td>0.000000e+00</td>\n",
       "      <td>0.000000</td>\n",
       "      <td>0.000000</td>\n",
       "      <td>...</td>\n",
       "      <td>0.345592</td>\n",
       "      <td>0.000000</td>\n",
       "      <td>0.000000</td>\n",
       "      <td>0.000000</td>\n",
       "      <td>0.005747</td>\n",
       "      <td>0.000000</td>\n",
       "      <td>0.000000</td>\n",
       "      <td>0.000000</td>\n",
       "      <td>0.000000</td>\n",
       "      <td>0.000000</td>\n",
       "    </tr>\n",
       "    <tr>\n",
       "      <th>25%</th>\n",
       "      <td>0.000000</td>\n",
       "      <td>0.000000</td>\n",
       "      <td>0.000000</td>\n",
       "      <td>0.000000</td>\n",
       "      <td>0.000000</td>\n",
       "      <td>0.000000</td>\n",
       "      <td>0.000000</td>\n",
       "      <td>4.070440e+03</td>\n",
       "      <td>0.000000</td>\n",
       "      <td>0.000000</td>\n",
       "      <td>...</td>\n",
       "      <td>1.781187</td>\n",
       "      <td>0.000000</td>\n",
       "      <td>0.000000</td>\n",
       "      <td>0.383673</td>\n",
       "      <td>0.428571</td>\n",
       "      <td>0.000000</td>\n",
       "      <td>0.000000</td>\n",
       "      <td>0.000000</td>\n",
       "      <td>0.000000</td>\n",
       "      <td>0.000000</td>\n",
       "    </tr>\n",
       "    <tr>\n",
       "      <th>50%</th>\n",
       "      <td>0.000000</td>\n",
       "      <td>0.000000</td>\n",
       "      <td>0.000000</td>\n",
       "      <td>0.027117</td>\n",
       "      <td>0.000000</td>\n",
       "      <td>0.000000</td>\n",
       "      <td>0.000000</td>\n",
       "      <td>1.628925e+04</td>\n",
       "      <td>0.000000</td>\n",
       "      <td>0.147059</td>\n",
       "      <td>...</td>\n",
       "      <td>3.894098</td>\n",
       "      <td>0.000000</td>\n",
       "      <td>0.000000</td>\n",
       "      <td>0.552169</td>\n",
       "      <td>0.558824</td>\n",
       "      <td>0.000000</td>\n",
       "      <td>0.000000</td>\n",
       "      <td>0.000000</td>\n",
       "      <td>0.000000</td>\n",
       "      <td>0.000000</td>\n",
       "    </tr>\n",
       "    <tr>\n",
       "      <th>75%</th>\n",
       "      <td>0.000000</td>\n",
       "      <td>0.036608</td>\n",
       "      <td>0.000000</td>\n",
       "      <td>0.110005</td>\n",
       "      <td>0.000000</td>\n",
       "      <td>0.000000</td>\n",
       "      <td>0.000000</td>\n",
       "      <td>5.659516e+04</td>\n",
       "      <td>0.010536</td>\n",
       "      <td>0.310345</td>\n",
       "      <td>...</td>\n",
       "      <td>6.555388</td>\n",
       "      <td>0.000000</td>\n",
       "      <td>0.000000</td>\n",
       "      <td>0.820226</td>\n",
       "      <td>0.766225</td>\n",
       "      <td>0.000000</td>\n",
       "      <td>0.000000</td>\n",
       "      <td>0.000000</td>\n",
       "      <td>0.000000</td>\n",
       "      <td>0.000000</td>\n",
       "    </tr>\n",
       "    <tr>\n",
       "      <th>max</th>\n",
       "      <td>11.000000</td>\n",
       "      <td>1.000000</td>\n",
       "      <td>1.000000</td>\n",
       "      <td>1.000000</td>\n",
       "      <td>1.000000</td>\n",
       "      <td>1.000000</td>\n",
       "      <td>4.000000</td>\n",
       "      <td>2.202141e+07</td>\n",
       "      <td>1.000000</td>\n",
       "      <td>1.000000</td>\n",
       "      <td>...</td>\n",
       "      <td>13.748937</td>\n",
       "      <td>1.000000</td>\n",
       "      <td>1.000000</td>\n",
       "      <td>1.000000</td>\n",
       "      <td>1.000000</td>\n",
       "      <td>1.000000</td>\n",
       "      <td>1.000000</td>\n",
       "      <td>1.000000</td>\n",
       "      <td>1.000000</td>\n",
       "      <td>1.000000</td>\n",
       "    </tr>\n",
       "  </tbody>\n",
       "</table>\n",
       "<p>8 rows × 48 columns</p>\n",
       "</div>"
      ],
      "text/plain": [
       "       CR_PROD_CNT_IL  AMOUNT_RUB_CLO_PRC  TURNOVER_DYNAMIC_IL_1M  \\\n",
       "count   355190.000000       316867.000000           355190.000000   \n",
       "mean         0.105225            0.044045                0.001305   \n",
       "std          0.431372            0.108449                0.029118   \n",
       "min          0.000000            0.000000                0.000000   \n",
       "25%          0.000000            0.000000                0.000000   \n",
       "50%          0.000000            0.000000                0.000000   \n",
       "75%          0.000000            0.036608                0.000000   \n",
       "max         11.000000            1.000000                1.000000   \n",
       "\n",
       "       AMOUNT_RUB_SUP_PRC  REST_DYNAMIC_FDEP_1M  REST_DYNAMIC_SAVE_3M  \\\n",
       "count       316867.000000         355190.000000         355190.000000   \n",
       "mean             0.085249              0.000723              0.063400   \n",
       "std              0.142310              0.014081              0.202963   \n",
       "min              0.000000              0.000000              0.000000   \n",
       "25%              0.000000              0.000000              0.000000   \n",
       "50%              0.027117              0.000000              0.000000   \n",
       "75%              0.110005              0.000000              0.000000   \n",
       "max              1.000000              1.000000              1.000000   \n",
       "\n",
       "       CR_PROD_CNT_VCU  REST_AVG_CUR  AMOUNT_RUB_NAS_PRC  TRANS_COUNT_SUP_PRC  \\\n",
       "count    355190.000000  3.551900e+05       316867.000000        316867.000000   \n",
       "mean          0.031214  6.635854e+04            0.023971             0.191057   \n",
       "std           0.184059  1.878598e+05            0.090774             0.195820   \n",
       "min           0.000000  0.000000e+00            0.000000             0.000000   \n",
       "25%           0.000000  4.070440e+03            0.000000             0.000000   \n",
       "50%           0.000000  1.628925e+04            0.000000             0.147059   \n",
       "75%           0.000000  5.659516e+04            0.010536             0.310345   \n",
       "max           4.000000  2.202141e+07            1.000000             1.000000   \n",
       "\n",
       "       ...  CLNT_SETUP_TENOR  TURNOVER_DYNAMIC_PAYM_3M  \\\n",
       "count  ...     355190.000000             355190.000000   \n",
       "mean   ...          4.377001                  0.071906   \n",
       "std    ...          2.936530                  0.206863   \n",
       "min    ...          0.345592                  0.000000   \n",
       "25%    ...          1.781187                  0.000000   \n",
       "50%    ...          3.894098                  0.000000   \n",
       "75%    ...          6.555388                  0.000000   \n",
       "max    ...         13.748937                  1.000000   \n",
       "\n",
       "       TURNOVER_DYNAMIC_PAYM_1M  TRANS_AMOUNT_TENDENCY3M  \\\n",
       "count             355190.000000            303194.000000   \n",
       "mean                   0.025108                 0.582237   \n",
       "std                    0.104482                 0.282157   \n",
       "min                    0.000000                 0.000000   \n",
       "25%                    0.000000                 0.383673   \n",
       "50%                    0.000000                 0.552169   \n",
       "75%                    0.000000                 0.820226   \n",
       "max                    1.000000                 1.000000   \n",
       "\n",
       "       TRANS_CNT_TENDENCY3M  REST_DYNAMIC_CC_1M  TURNOVER_DYNAMIC_CC_1M  \\\n",
       "count         303194.000000       355190.000000           355190.000000   \n",
       "mean               0.597247            0.002191                0.000883   \n",
       "std                0.247131            0.026360                0.027321   \n",
       "min                0.005747            0.000000                0.000000   \n",
       "25%                0.428571            0.000000                0.000000   \n",
       "50%                0.558824            0.000000                0.000000   \n",
       "75%                0.766225            0.000000                0.000000   \n",
       "max                1.000000            1.000000                1.000000   \n",
       "\n",
       "       REST_DYNAMIC_CC_3M  TURNOVER_DYNAMIC_CC_3M         TARGET  \n",
       "count       355190.000000           355190.000000  355190.000000  \n",
       "mean             0.007309                0.004309       0.081435  \n",
       "std              0.066681                0.059852       0.273503  \n",
       "min              0.000000                0.000000       0.000000  \n",
       "25%              0.000000                0.000000       0.000000  \n",
       "50%              0.000000                0.000000       0.000000  \n",
       "75%              0.000000                0.000000       0.000000  \n",
       "max              1.000000                1.000000       1.000000  \n",
       "\n",
       "[8 rows x 48 columns]"
      ]
     },
     "execution_count": 9,
     "metadata": {},
     "output_type": "execute_result"
    }
   ],
   "source": [
    "df_.describe()"
   ]
  },
  {
   "cell_type": "code",
   "execution_count": 10,
   "metadata": {},
   "outputs": [
    {
     "name": "stdout",
     "output_type": "stream",
     "text": [
      "<class 'pandas.core.frame.DataFrame'>\n",
      "RangeIndex: 355190 entries, 0 to 355189\n",
      "Data columns (total 50 columns):\n",
      " #   Column                    Non-Null Count   Dtype  \n",
      "---  ------                    --------------   -----  \n",
      " 0   CR_PROD_CNT_IL            355190 non-null  int64  \n",
      " 1   AMOUNT_RUB_CLO_PRC        316867 non-null  float64\n",
      " 2   TURNOVER_DYNAMIC_IL_1M    355190 non-null  float64\n",
      " 3   AMOUNT_RUB_SUP_PRC        316867 non-null  float64\n",
      " 4   REST_DYNAMIC_FDEP_1M      355190 non-null  float64\n",
      " 5   REST_DYNAMIC_SAVE_3M      355190 non-null  float64\n",
      " 6   CR_PROD_CNT_VCU           355190 non-null  int64  \n",
      " 7   REST_AVG_CUR              355190 non-null  float64\n",
      " 8   AMOUNT_RUB_NAS_PRC        316867 non-null  float64\n",
      " 9   CLNT_JOB_POSITION         210811 non-null  object \n",
      " 10  TRANS_COUNT_SUP_PRC       316867 non-null  float64\n",
      " 11  TRANS_COUNT_NAS_PRC       316867 non-null  float64\n",
      " 12  CR_PROD_CNT_TOVR          355190 non-null  int64  \n",
      " 13  CR_PROD_CNT_PIL           355190 non-null  int64  \n",
      " 14  TURNOVER_CC               355190 non-null  float64\n",
      " 15  TRANS_COUNT_ATM_PRC       316867 non-null  float64\n",
      " 16  AMOUNT_RUB_ATM_PRC        316867 non-null  float64\n",
      " 17  TURNOVER_PAYM             355190 non-null  float64\n",
      " 18  AGE                       355190 non-null  int64  \n",
      " 19  CR_PROD_CNT_CC            355190 non-null  int64  \n",
      " 20  REST_DYNAMIC_FDEP_3M      355190 non-null  float64\n",
      " 21  REST_DYNAMIC_IL_1M        355190 non-null  float64\n",
      " 22  CR_PROD_CNT_CCFP          355190 non-null  int64  \n",
      " 23  REST_DYNAMIC_CUR_1M       355190 non-null  float64\n",
      " 24  REST_AVG_PAYM             355190 non-null  float64\n",
      " 25  LDEAL_GRACE_DAYS_PCT_MED  355190 non-null  float64\n",
      " 26  REST_DYNAMIC_CUR_3M       355190 non-null  float64\n",
      " 27  CNT_TRAN_SUP_TENDENCY3M   198718 non-null  float64\n",
      " 28  TURNOVER_DYNAMIC_CUR_1M   355190 non-null  float64\n",
      " 29  REST_DYNAMIC_PAYM_3M      355190 non-null  float64\n",
      " 30  SUM_TRAN_SUP_TENDENCY3M   198718 non-null  float64\n",
      " 31  REST_DYNAMIC_IL_3M        355190 non-null  float64\n",
      " 32  CNT_TRAN_ATM_TENDENCY3M   255595 non-null  float64\n",
      " 33  CNT_TRAN_ATM_TENDENCY1M   205874 non-null  float64\n",
      " 34  TURNOVER_DYNAMIC_IL_3M    355190 non-null  float64\n",
      " 35  SUM_TRAN_ATM_TENDENCY3M   255595 non-null  float64\n",
      " 36  SUM_TRAN_ATM_TENDENCY1M   205874 non-null  float64\n",
      " 37  REST_DYNAMIC_PAYM_1M      355190 non-null  float64\n",
      " 38  TURNOVER_DYNAMIC_CUR_3M   355190 non-null  float64\n",
      " 39  PACK                      355190 non-null  object \n",
      " 40  CLNT_SETUP_TENOR          355190 non-null  float64\n",
      " 41  TURNOVER_DYNAMIC_PAYM_3M  355190 non-null  float64\n",
      " 42  TURNOVER_DYNAMIC_PAYM_1M  355190 non-null  float64\n",
      " 43  TRANS_AMOUNT_TENDENCY3M   303194 non-null  float64\n",
      " 44  TRANS_CNT_TENDENCY3M      303194 non-null  float64\n",
      " 45  REST_DYNAMIC_CC_1M        355190 non-null  float64\n",
      " 46  TURNOVER_DYNAMIC_CC_1M    355190 non-null  float64\n",
      " 47  REST_DYNAMIC_CC_3M        355190 non-null  float64\n",
      " 48  TURNOVER_DYNAMIC_CC_3M    355190 non-null  float64\n",
      " 49  TARGET                    355190 non-null  int64  \n",
      "dtypes: float64(40), int64(8), object(2)\n",
      "memory usage: 135.5+ MB\n"
     ]
    }
   ],
   "source": [
    "df_.info()"
   ]
  },
  {
   "cell_type": "code",
   "execution_count": 11,
   "metadata": {},
   "outputs": [
    {
     "data": {
      "text/plain": [
       "119"
      ]
     },
     "execution_count": 11,
     "metadata": {},
     "output_type": "execute_result"
    }
   ],
   "source": [
    "df_.duplicated().sum()"
   ]
  },
  {
   "cell_type": "code",
   "execution_count": 12,
   "metadata": {},
   "outputs": [],
   "source": [
    "df_ = df_.drop_duplicates()"
   ]
  },
  {
   "cell_type": "code",
   "execution_count": 13,
   "metadata": {},
   "outputs": [
    {
     "data": {
      "image/png": "[encoded data removed]",
      "text/plain": [
       "<Figure size 1440x1440 with 49 Axes>"
      ]
     },
     "metadata": {
      "needs_background": "light"
     },
     "output_type": "display_data"
    }
   ],
   "source": [
    "df_.hist(figsize=(20, 20))\n",
    "None"
   ]
  },
  {
   "cell_type": "code",
   "execution_count": 14,
   "metadata": {},
   "outputs": [
    {
     "data": {
      "text/html": [
       "<div>\n",
       "<style scoped>\n",
       "    .dataframe tbody tr th:only-of-type {\n",
       "        vertical-align: middle;\n",
       "    }\n",
       "\n",
       "    .dataframe tbody tr th {\n",
       "        vertical-align: top;\n",
       "    }\n",
       "\n",
       "    .dataframe thead th {\n",
       "        text-align: right;\n",
       "    }\n",
       "</style>\n",
       "<table border=\"1\" class=\"dataframe\">\n",
       "  <thead>\n",
       "    <tr style=\"text-align: right;\">\n",
       "      <th></th>\n",
       "      <th>CR_PROD_CNT_IL</th>\n",
       "      <th>AMOUNT_RUB_CLO_PRC</th>\n",
       "      <th>TURNOVER_DYNAMIC_IL_1M</th>\n",
       "      <th>AMOUNT_RUB_SUP_PRC</th>\n",
       "      <th>REST_DYNAMIC_FDEP_1M</th>\n",
       "      <th>REST_DYNAMIC_SAVE_3M</th>\n",
       "      <th>CR_PROD_CNT_VCU</th>\n",
       "      <th>REST_AVG_CUR</th>\n",
       "      <th>AMOUNT_RUB_NAS_PRC</th>\n",
       "      <th>CLNT_JOB_POSITION</th>\n",
       "      <th>...</th>\n",
       "      <th>PACK</th>\n",
       "      <th>CLNT_SETUP_TENOR</th>\n",
       "      <th>TURNOVER_DYNAMIC_PAYM_3M</th>\n",
       "      <th>TURNOVER_DYNAMIC_PAYM_1M</th>\n",
       "      <th>TRANS_AMOUNT_TENDENCY3M</th>\n",
       "      <th>TRANS_CNT_TENDENCY3M</th>\n",
       "      <th>REST_DYNAMIC_CC_1M</th>\n",
       "      <th>TURNOVER_DYNAMIC_CC_1M</th>\n",
       "      <th>REST_DYNAMIC_CC_3M</th>\n",
       "      <th>TURNOVER_DYNAMIC_CC_3M</th>\n",
       "    </tr>\n",
       "  </thead>\n",
       "  <tbody>\n",
       "    <tr>\n",
       "      <th>0</th>\n",
       "      <td>0</td>\n",
       "      <td>0.000000</td>\n",
       "      <td>0.0</td>\n",
       "      <td>0.000000</td>\n",
       "      <td>0.0</td>\n",
       "      <td>0.541683</td>\n",
       "      <td>0</td>\n",
       "      <td>156067.339767</td>\n",
       "      <td>0.000000</td>\n",
       "      <td>начальник отдела</td>\n",
       "      <td>...</td>\n",
       "      <td>K01</td>\n",
       "      <td>1.593023</td>\n",
       "      <td>0.0</td>\n",
       "      <td>0.0</td>\n",
       "      <td>0.483032</td>\n",
       "      <td>0.406780</td>\n",
       "      <td>0.0</td>\n",
       "      <td>0.0</td>\n",
       "      <td>0.0</td>\n",
       "      <td>0.0</td>\n",
       "    </tr>\n",
       "    <tr>\n",
       "      <th>1</th>\n",
       "      <td>0</td>\n",
       "      <td>0.041033</td>\n",
       "      <td>0.0</td>\n",
       "      <td>0.244678</td>\n",
       "      <td>0.0</td>\n",
       "      <td>0.000000</td>\n",
       "      <td>0</td>\n",
       "      <td>4278.845817</td>\n",
       "      <td>0.000000</td>\n",
       "      <td>NaN</td>\n",
       "      <td>...</td>\n",
       "      <td>102</td>\n",
       "      <td>1.587647</td>\n",
       "      <td>0.0</td>\n",
       "      <td>0.0</td>\n",
       "      <td>0.394340</td>\n",
       "      <td>0.545455</td>\n",
       "      <td>0.0</td>\n",
       "      <td>0.0</td>\n",
       "      <td>0.0</td>\n",
       "      <td>0.0</td>\n",
       "    </tr>\n",
       "    <tr>\n",
       "      <th>2</th>\n",
       "      <td>0</td>\n",
       "      <td>0.006915</td>\n",
       "      <td>0.0</td>\n",
       "      <td>0.000000</td>\n",
       "      <td>0.0</td>\n",
       "      <td>0.000000</td>\n",
       "      <td>0</td>\n",
       "      <td>112837.062817</td>\n",
       "      <td>0.000000</td>\n",
       "      <td>ГЕНЕРАЛЬНЫЙ ДИРЕКТОР</td>\n",
       "      <td>...</td>\n",
       "      <td>102</td>\n",
       "      <td>1.587647</td>\n",
       "      <td>0.0</td>\n",
       "      <td>0.0</td>\n",
       "      <td>0.399342</td>\n",
       "      <td>0.297297</td>\n",
       "      <td>0.0</td>\n",
       "      <td>0.0</td>\n",
       "      <td>0.0</td>\n",
       "      <td>0.0</td>\n",
       "    </tr>\n",
       "    <tr>\n",
       "      <th>3</th>\n",
       "      <td>0</td>\n",
       "      <td>0.000000</td>\n",
       "      <td>0.0</td>\n",
       "      <td>0.000000</td>\n",
       "      <td>0.0</td>\n",
       "      <td>0.005874</td>\n",
       "      <td>0</td>\n",
       "      <td>42902.902883</td>\n",
       "      <td>0.000000</td>\n",
       "      <td>МЕНЕДЖЕР ИАО</td>\n",
       "      <td>...</td>\n",
       "      <td>K01</td>\n",
       "      <td>1.583333</td>\n",
       "      <td>0.0</td>\n",
       "      <td>0.0</td>\n",
       "      <td>NaN</td>\n",
       "      <td>NaN</td>\n",
       "      <td>0.0</td>\n",
       "      <td>0.0</td>\n",
       "      <td>0.0</td>\n",
       "      <td>0.0</td>\n",
       "    </tr>\n",
       "    <tr>\n",
       "      <th>4</th>\n",
       "      <td>0</td>\n",
       "      <td>0.000000</td>\n",
       "      <td>0.0</td>\n",
       "      <td>0.000000</td>\n",
       "      <td>0.0</td>\n",
       "      <td>0.000000</td>\n",
       "      <td>0</td>\n",
       "      <td>71906.476533</td>\n",
       "      <td>0.000000</td>\n",
       "      <td>NaN</td>\n",
       "      <td>...</td>\n",
       "      <td>102</td>\n",
       "      <td>1.583333</td>\n",
       "      <td>0.0</td>\n",
       "      <td>0.0</td>\n",
       "      <td>0.611610</td>\n",
       "      <td>0.620690</td>\n",
       "      <td>0.0</td>\n",
       "      <td>0.0</td>\n",
       "      <td>0.0</td>\n",
       "      <td>0.0</td>\n",
       "    </tr>\n",
       "    <tr>\n",
       "      <th>...</th>\n",
       "      <td>...</td>\n",
       "      <td>...</td>\n",
       "      <td>...</td>\n",
       "      <td>...</td>\n",
       "      <td>...</td>\n",
       "      <td>...</td>\n",
       "      <td>...</td>\n",
       "      <td>...</td>\n",
       "      <td>...</td>\n",
       "      <td>...</td>\n",
       "      <td>...</td>\n",
       "      <td>...</td>\n",
       "      <td>...</td>\n",
       "      <td>...</td>\n",
       "      <td>...</td>\n",
       "      <td>...</td>\n",
       "      <td>...</td>\n",
       "      <td>...</td>\n",
       "      <td>...</td>\n",
       "      <td>...</td>\n",
       "      <td>...</td>\n",
       "    </tr>\n",
       "    <tr>\n",
       "      <th>355185</th>\n",
       "      <td>0</td>\n",
       "      <td>0.000000</td>\n",
       "      <td>0.0</td>\n",
       "      <td>0.000000</td>\n",
       "      <td>0.0</td>\n",
       "      <td>0.000000</td>\n",
       "      <td>0</td>\n",
       "      <td>9697.620867</td>\n",
       "      <td>0.000000</td>\n",
       "      <td>NaN</td>\n",
       "      <td>...</td>\n",
       "      <td>104</td>\n",
       "      <td>8.963872</td>\n",
       "      <td>0.0</td>\n",
       "      <td>0.0</td>\n",
       "      <td>0.659039</td>\n",
       "      <td>0.785714</td>\n",
       "      <td>0.0</td>\n",
       "      <td>0.0</td>\n",
       "      <td>0.0</td>\n",
       "      <td>0.0</td>\n",
       "    </tr>\n",
       "    <tr>\n",
       "      <th>355186</th>\n",
       "      <td>0</td>\n",
       "      <td>0.000000</td>\n",
       "      <td>0.0</td>\n",
       "      <td>0.000000</td>\n",
       "      <td>0.0</td>\n",
       "      <td>0.000000</td>\n",
       "      <td>0</td>\n",
       "      <td>428380.024733</td>\n",
       "      <td>0.262714</td>\n",
       "      <td>NaN</td>\n",
       "      <td>...</td>\n",
       "      <td>104</td>\n",
       "      <td>8.963872</td>\n",
       "      <td>0.0</td>\n",
       "      <td>0.0</td>\n",
       "      <td>0.652612</td>\n",
       "      <td>0.500000</td>\n",
       "      <td>0.0</td>\n",
       "      <td>0.0</td>\n",
       "      <td>0.0</td>\n",
       "      <td>0.0</td>\n",
       "    </tr>\n",
       "    <tr>\n",
       "      <th>355187</th>\n",
       "      <td>0</td>\n",
       "      <td>0.041298</td>\n",
       "      <td>0.0</td>\n",
       "      <td>0.095187</td>\n",
       "      <td>0.0</td>\n",
       "      <td>0.000000</td>\n",
       "      <td>0</td>\n",
       "      <td>224884.436700</td>\n",
       "      <td>0.031179</td>\n",
       "      <td>NaN</td>\n",
       "      <td>...</td>\n",
       "      <td>K01</td>\n",
       "      <td>8.966560</td>\n",
       "      <td>0.0</td>\n",
       "      <td>0.0</td>\n",
       "      <td>0.448386</td>\n",
       "      <td>0.459530</td>\n",
       "      <td>0.0</td>\n",
       "      <td>0.0</td>\n",
       "      <td>0.0</td>\n",
       "      <td>0.0</td>\n",
       "    </tr>\n",
       "    <tr>\n",
       "      <th>355188</th>\n",
       "      <td>0</td>\n",
       "      <td>0.000000</td>\n",
       "      <td>0.0</td>\n",
       "      <td>0.000000</td>\n",
       "      <td>0.0</td>\n",
       "      <td>0.000000</td>\n",
       "      <td>0</td>\n",
       "      <td>12080.001833</td>\n",
       "      <td>0.282573</td>\n",
       "      <td>Руководитель</td>\n",
       "      <td>...</td>\n",
       "      <td>O01</td>\n",
       "      <td>8.966560</td>\n",
       "      <td>0.0</td>\n",
       "      <td>0.0</td>\n",
       "      <td>1.000000</td>\n",
       "      <td>1.000000</td>\n",
       "      <td>0.0</td>\n",
       "      <td>0.0</td>\n",
       "      <td>0.0</td>\n",
       "      <td>0.0</td>\n",
       "    </tr>\n",
       "    <tr>\n",
       "      <th>355189</th>\n",
       "      <td>0</td>\n",
       "      <td>0.000000</td>\n",
       "      <td>0.0</td>\n",
       "      <td>0.000000</td>\n",
       "      <td>0.0</td>\n",
       "      <td>0.003551</td>\n",
       "      <td>0</td>\n",
       "      <td>11323.728250</td>\n",
       "      <td>0.000000</td>\n",
       "      <td>РЕКЛАМНЫЙ МЕНЕДЖЕР</td>\n",
       "      <td>...</td>\n",
       "      <td>K01</td>\n",
       "      <td>8.961184</td>\n",
       "      <td>0.0</td>\n",
       "      <td>0.0</td>\n",
       "      <td>NaN</td>\n",
       "      <td>NaN</td>\n",
       "      <td>0.0</td>\n",
       "      <td>0.0</td>\n",
       "      <td>0.0</td>\n",
       "      <td>0.0</td>\n",
       "    </tr>\n",
       "  </tbody>\n",
       "</table>\n",
       "<p>355071 rows × 49 columns</p>\n",
       "</div>"
      ],
      "text/plain": [
       "        CR_PROD_CNT_IL  AMOUNT_RUB_CLO_PRC  TURNOVER_DYNAMIC_IL_1M  \\\n",
       "0                    0            0.000000                     0.0   \n",
       "1                    0            0.041033                     0.0   \n",
       "2                    0            0.006915                     0.0   \n",
       "3                    0            0.000000                     0.0   \n",
       "4                    0            0.000000                     0.0   \n",
       "...                ...                 ...                     ...   \n",
       "355185               0            0.000000                     0.0   \n",
       "355186               0            0.000000                     0.0   \n",
       "355187               0            0.041298                     0.0   \n",
       "355188               0            0.000000                     0.0   \n",
       "355189               0            0.000000                     0.0   \n",
       "\n",
       "        AMOUNT_RUB_SUP_PRC  REST_DYNAMIC_FDEP_1M  REST_DYNAMIC_SAVE_3M  \\\n",
       "0                 0.000000                   0.0              0.541683   \n",
       "1                 0.244678                   0.0              0.000000   \n",
       "2                 0.000000                   0.0              0.000000   \n",
       "3                 0.000000                   0.0              0.005874   \n",
       "4                 0.000000                   0.0              0.000000   \n",
       "...                    ...                   ...                   ...   \n",
       "355185            0.000000                   0.0              0.000000   \n",
       "355186            0.000000                   0.0              0.000000   \n",
       "355187            0.095187                   0.0              0.000000   \n",
       "355188            0.000000                   0.0              0.000000   \n",
       "355189            0.000000                   0.0              0.003551   \n",
       "\n",
       "        CR_PROD_CNT_VCU   REST_AVG_CUR  AMOUNT_RUB_NAS_PRC  \\\n",
       "0                     0  156067.339767            0.000000   \n",
       "1                     0    4278.845817            0.000000   \n",
       "2                     0  112837.062817            0.000000   \n",
       "3                     0   42902.902883            0.000000   \n",
       "4                     0   71906.476533            0.000000   \n",
       "...                 ...            ...                 ...   \n",
       "355185                0    9697.620867            0.000000   \n",
       "355186                0  428380.024733            0.262714   \n",
       "355187                0  224884.436700            0.031179   \n",
       "355188                0   12080.001833            0.282573   \n",
       "355189                0   11323.728250            0.000000   \n",
       "\n",
       "           CLNT_JOB_POSITION  ...  PACK  CLNT_SETUP_TENOR  \\\n",
       "0           начальник отдела  ...   K01          1.593023   \n",
       "1                        NaN  ...   102          1.587647   \n",
       "2       ГЕНЕРАЛЬНЫЙ ДИРЕКТОР  ...   102          1.587647   \n",
       "3               МЕНЕДЖЕР ИАО  ...   K01          1.583333   \n",
       "4                        NaN  ...   102          1.583333   \n",
       "...                      ...  ...   ...               ...   \n",
       "355185                   NaN  ...   104          8.963872   \n",
       "355186                   NaN  ...   104          8.963872   \n",
       "355187                   NaN  ...   K01          8.966560   \n",
       "355188          Руководитель  ...   O01          8.966560   \n",
       "355189    РЕКЛАМНЫЙ МЕНЕДЖЕР  ...   K01          8.961184   \n",
       "\n",
       "        TURNOVER_DYNAMIC_PAYM_3M  TURNOVER_DYNAMIC_PAYM_1M  \\\n",
       "0                            0.0                       0.0   \n",
       "1                            0.0                       0.0   \n",
       "2                            0.0                       0.0   \n",
       "3                            0.0                       0.0   \n",
       "4                            0.0                       0.0   \n",
       "...                          ...                       ...   \n",
       "355185                       0.0                       0.0   \n",
       "355186                       0.0                       0.0   \n",
       "355187                       0.0                       0.0   \n",
       "355188                       0.0                       0.0   \n",
       "355189                       0.0                       0.0   \n",
       "\n",
       "        TRANS_AMOUNT_TENDENCY3M  TRANS_CNT_TENDENCY3M  REST_DYNAMIC_CC_1M  \\\n",
       "0                      0.483032              0.406780                 0.0   \n",
       "1                      0.394340              0.545455                 0.0   \n",
       "2                      0.399342              0.297297                 0.0   \n",
       "3                           NaN                   NaN                 0.0   \n",
       "4                      0.611610              0.620690                 0.0   \n",
       "...                         ...                   ...                 ...   \n",
       "355185                 0.659039              0.785714                 0.0   \n",
       "355186                 0.652612              0.500000                 0.0   \n",
       "355187                 0.448386              0.459530                 0.0   \n",
       "355188                 1.000000              1.000000                 0.0   \n",
       "355189                      NaN                   NaN                 0.0   \n",
       "\n",
       "        TURNOVER_DYNAMIC_CC_1M  REST_DYNAMIC_CC_3M  TURNOVER_DYNAMIC_CC_3M  \n",
       "0                          0.0                 0.0                     0.0  \n",
       "1                          0.0                 0.0                     0.0  \n",
       "2                          0.0                 0.0                     0.0  \n",
       "3                          0.0                 0.0                     0.0  \n",
       "4                          0.0                 0.0                     0.0  \n",
       "...                        ...                 ...                     ...  \n",
       "355185                     0.0                 0.0                     0.0  \n",
       "355186                     0.0                 0.0                     0.0  \n",
       "355187                     0.0                 0.0                     0.0  \n",
       "355188                     0.0                 0.0                     0.0  \n",
       "355189                     0.0                 0.0                     0.0  \n",
       "\n",
       "[355071 rows x 49 columns]"
      ]
     },
     "execution_count": 14,
     "metadata": {},
     "output_type": "execute_result"
    }
   ],
   "source": [
    "labels = df_['TARGET']\n",
    "data = df_.drop(['TARGET'], axis=1)\n",
    "data"
   ]
  },
  {
   "cell_type": "code",
   "execution_count": 15,
   "metadata": {},
   "outputs": [
    {
     "name": "stdout",
     "output_type": "stream",
     "text": [
      "['CLNT_JOB_POSITION', 'PACK']\n",
      "['CR_PROD_CNT_IL', 'AMOUNT_RUB_CLO_PRC', 'TURNOVER_DYNAMIC_IL_1M', 'AMOUNT_RUB_SUP_PRC', 'REST_DYNAMIC_FDEP_1M', 'REST_DYNAMIC_SAVE_3M', 'CR_PROD_CNT_VCU', 'REST_AVG_CUR', 'AMOUNT_RUB_NAS_PRC', 'TRANS_COUNT_SUP_PRC', 'TRANS_COUNT_NAS_PRC', 'CR_PROD_CNT_TOVR', 'CR_PROD_CNT_PIL', 'TURNOVER_CC', 'TRANS_COUNT_ATM_PRC', 'AMOUNT_RUB_ATM_PRC', 'TURNOVER_PAYM', 'AGE', 'CR_PROD_CNT_CC', 'REST_DYNAMIC_FDEP_3M', 'REST_DYNAMIC_IL_1M', 'CR_PROD_CNT_CCFP', 'REST_DYNAMIC_CUR_1M', 'REST_AVG_PAYM', 'LDEAL_GRACE_DAYS_PCT_MED', 'REST_DYNAMIC_CUR_3M', 'CNT_TRAN_SUP_TENDENCY3M', 'TURNOVER_DYNAMIC_CUR_1M', 'REST_DYNAMIC_PAYM_3M', 'SUM_TRAN_SUP_TENDENCY3M', 'REST_DYNAMIC_IL_3M', 'CNT_TRAN_ATM_TENDENCY3M', 'CNT_TRAN_ATM_TENDENCY1M', 'TURNOVER_DYNAMIC_IL_3M', 'SUM_TRAN_ATM_TENDENCY3M', 'SUM_TRAN_ATM_TENDENCY1M', 'REST_DYNAMIC_PAYM_1M', 'TURNOVER_DYNAMIC_CUR_3M', 'CLNT_SETUP_TENOR', 'TURNOVER_DYNAMIC_PAYM_3M', 'TURNOVER_DYNAMIC_PAYM_1M', 'TRANS_AMOUNT_TENDENCY3M', 'TRANS_CNT_TENDENCY3M', 'REST_DYNAMIC_CC_1M', 'TURNOVER_DYNAMIC_CC_1M', 'REST_DYNAMIC_CC_3M', 'TURNOVER_DYNAMIC_CC_3M']\n"
     ]
    }
   ],
   "source": [
    "cat_attributes = [col for col in data.columns if data[col].dtype == np.dtype('O')]\n",
    "num_attributes = [col for col in data.columns if col not in cat_attributes]\n",
    "print(cat_attributes)\n",
    "print(num_attributes)"
   ]
  },
  {
   "cell_type": "code",
   "execution_count": 16,
   "metadata": {},
   "outputs": [
    {
     "data": {
      "image/png": "[encoded data removed]",
      "text/plain": [
       "<Figure size 432x288 with 1 Axes>"
      ]
     },
     "metadata": {
      "needs_background": "light"
     },
     "output_type": "display_data"
    },
    {
     "data": {
      "image/png": "[encoded data removed]",
      "text/plain": [
       "<Figure size 432x288 with 1 Axes>"
      ]
     },
     "metadata": {
      "needs_background": "light"
     },
     "output_type": "display_data"
    },
    {
     "data": {
      "image/png": "[encoded data removed]",
      "text/plain": [
       "<Figure size 432x288 with 1 Axes>"
      ]
     },
     "metadata": {
      "needs_background": "light"
     },
     "output_type": "display_data"
    },
    {
     "data": {
      "image/png": "[encoded data removed]",
      "text/plain": [
       "<Figure size 432x288 with 1 Axes>"
      ]
     },
     "metadata": {
      "needs_background": "light"
     },
     "output_type": "display_data"
    },
    {
     "data": {
      "image/png": "[encoded data removed]",
      "text/plain": [
       "<Figure size 432x288 with 1 Axes>"
      ]
     },
     "metadata": {
      "needs_background": "light"
     },
     "output_type": "display_data"
    },
    {
     "data": {
      "image/png": "[encoded data removed]",
      "text/plain": [
       "<Figure size 432x288 with 1 Axes>"
      ]
     },
     "metadata": {
      "needs_background": "light"
     },
     "output_type": "display_data"
    },
    {
     "data": {
      "image/png": "[encoded data removed]",
      "text/plain": [
       "<Figure size 432x288 with 1 Axes>"
      ]
     },
     "metadata": {
      "needs_background": "light"
     },
     "output_type": "display_data"
    },
    {
     "data": {
      "image/png": "[encoded data removed]",
      "text/plain": [
       "<Figure size 432x288 with 1 Axes>"
      ]
     },
     "metadata": {
      "needs_background": "light"
     },
     "output_type": "display_data"
    },
    {
     "data": {
      "image/png": "[encoded data removed]",
      "text/plain": [
       "<Figure size 432x288 with 1 Axes>"
      ]
     },
     "metadata": {
      "needs_background": "light"
     },
     "output_type": "display_data"
    },
    {
     "data": {
      "image/png": "[encoded data removed]",
      "text/plain": [
       "<Figure size 432x288 with 1 Axes>"
      ]
     },
     "metadata": {
      "needs_background": "light"
     },
     "output_type": "display_data"
    },
    {
     "data": {
      "image/png": "[encoded data removed]",
      "text/plain": [
       "<Figure size 432x288 with 1 Axes>"
      ]
     },
     "metadata": {
      "needs_background": "light"
     },
     "output_type": "display_data"
    },
    {
     "data": {
      "image/png": "[encoded data removed]",
      "text/plain": [
       "<Figure size 432x288 with 1 Axes>"
      ]
     },
     "metadata": {
      "needs_background": "light"
     },
     "output_type": "display_data"
    },
    {
     "data": {
      "image/png": "[encoded data removed]",
      "text/plain": [
       "<Figure size 432x288 with 1 Axes>"
      ]
     },
     "metadata": {
      "needs_background": "light"
     },
     "output_type": "display_data"
    },
    {
     "data": {
      "image/png": "[encoded data removed]",
      "text/plain": [
       "<Figure size 432x288 with 1 Axes>"
      ]
     },
     "metadata": {
      "needs_background": "light"
     },
     "output_type": "display_data"
    },
    {
     "data": {
      "image/png": "[encoded data removed]",
      "text/plain": [
       "<Figure size 432x288 with 1 Axes>"
      ]
     },
     "metadata": {
      "needs_background": "light"
     },
     "output_type": "display_data"
    },
    {
     "data": {
      "image/png": "[encoded data removed]",
      "text/plain": [
       "<Figure size 432x288 with 1 Axes>"
      ]
     },
     "metadata": {
      "needs_background": "light"
     },
     "output_type": "display_data"
    },
    {
     "data": {
      "image/png": "[encoded data removed]",
      "text/plain": [
       "<Figure size 432x288 with 1 Axes>"
      ]
     },
     "metadata": {
      "needs_background": "light"
     },
     "output_type": "display_data"
    },
    {
     "data": {
      "image/png": "[encoded data removed]",
      "text/plain": [
       "<Figure size 432x288 with 1 Axes>"
      ]
     },
     "metadata": {
      "needs_background": "light"
     },
     "output_type": "display_data"
    },
    {
     "data": {
      "image/png": "[encoded data removed]",
      "text/plain": [
       "<Figure size 432x288 with 1 Axes>"
      ]
     },
     "metadata": {
      "needs_background": "light"
     },
     "output_type": "display_data"
    },
    {
     "data": {
      "image/png": "[encoded data removed]",
      "text/plain": [
       "<Figure size 432x288 with 1 Axes>"
      ]
     },
     "metadata": {
      "needs_background": "light"
     },
     "output_type": "display_data"
    },
    {
     "data": {
      "image/png": "[encoded data removed]",
      "text/plain": [
       "<Figure size 432x288 with 1 Axes>"
      ]
     },
     "metadata": {
      "needs_background": "light"
     },
     "output_type": "display_data"
    },
    {
     "data": {
      "image/png": "[encoded data removed]",
      "text/plain": [
       "<Figure size 432x288 with 1 Axes>"
      ]
     },
     "metadata": {
      "needs_background": "light"
     },
     "output_type": "display_data"
    },
    {
     "data": {
      "image/png": "[encoded data removed]",
      "text/plain": [
       "<Figure size 432x288 with 1 Axes>"
      ]
     },
     "metadata": {
      "needs_background": "light"
     },
     "output_type": "display_data"
    },
    {
     "data": {
      "image/png": "[encoded data removed]",
      "text/plain": [
       "<Figure size 432x288 with 1 Axes>"
      ]
     },
     "metadata": {
      "needs_background": "light"
     },
     "output_type": "display_data"
    },
    {
     "data": {
      "image/png": "[encoded data removed]",
      "text/plain": [
       "<Figure size 432x288 with 1 Axes>"
      ]
     },
     "metadata": {
      "needs_background": "light"
     },
     "output_type": "display_data"
    },
    {
     "data": {
      "image/png": "[encoded data removed]",
      "text/plain": [
       "<Figure size 432x288 with 1 Axes>"
      ]
     },
     "metadata": {
      "needs_background": "light"
     },
     "output_type": "display_data"
    },
    {
     "data": {
      "image/png": "[encoded data removed]",
      "text/plain": [
       "<Figure size 432x288 with 1 Axes>"
      ]
     },
     "metadata": {
      "needs_background": "light"
     },
     "output_type": "display_data"
    },
    {
     "data": {
      "image/png": "[encoded data removed]",
      "text/plain": [
       "<Figure size 432x288 with 1 Axes>"
      ]
     },
     "metadata": {
      "needs_background": "light"
     },
     "output_type": "display_data"
    },
    {
     "data": {
      "image/png": "[encoded data removed]",
      "text/plain": [
       "<Figure size 432x288 with 1 Axes>"
      ]
     },
     "metadata": {
      "needs_background": "light"
     },
     "output_type": "display_data"
    },
    {
     "data": {
      "image/png": "[encoded data removed]",
      "text/plain": [
       "<Figure size 432x288 with 1 Axes>"
      ]
     },
     "metadata": {
      "needs_background": "light"
     },
     "output_type": "display_data"
    },
    {
     "data": {
      "image/png": "[encoded data removed]",
      "text/plain": [
       "<Figure size 432x288 with 1 Axes>"
      ]
     },
     "metadata": {
      "needs_background": "light"
     },
     "output_type": "display_data"
    },
    {
     "data": {
      "image/png": "[encoded data removed]",
      "text/plain": [
       "<Figure size 432x288 with 1 Axes>"
      ]
     },
     "metadata": {
      "needs_background": "light"
     },
     "output_type": "display_data"
    },
    {
     "data": {
      "image/png": "[encoded data removed]",
      "text/plain": [
       "<Figure size 432x288 with 1 Axes>"
      ]
     },
     "metadata": {
      "needs_background": "light"
     },
     "output_type": "display_data"
    },
    {
     "data": {
      "image/png": "[encoded data removed]",
      "text/plain": [
       "<Figure size 432x288 with 1 Axes>"
      ]
     },
     "metadata": {
      "needs_background": "light"
     },
     "output_type": "display_data"
    },
    {
     "data": {
      "image/png": "[encoded data removed]",
      "text/plain": [
       "<Figure size 432x288 with 1 Axes>"
      ]
     },
     "metadata": {
      "needs_background": "light"
     },
     "output_type": "display_data"
    },
    {
     "data": {
      "image/png": "[encoded data removed]",
      "text/plain": [
       "<Figure size 432x288 with 1 Axes>"
      ]
     },
     "metadata": {
      "needs_background": "light"
     },
     "output_type": "display_data"
    },
    {
     "data": {
      "image/png": "[encoded data removed]",
      "text/plain": [
       "<Figure size 432x288 with 1 Axes>"
      ]
     },
     "metadata": {
      "needs_background": "light"
     },
     "output_type": "display_data"
    },
    {
     "data": {
      "image/png": "[encoded data removed]",
      "text/plain": [
       "<Figure size 432x288 with 1 Axes>"
      ]
     },
     "metadata": {
      "needs_background": "light"
     },
     "output_type": "display_data"
    },
    {
     "data": {
      "image/png": "[encoded data removed]",
      "text/plain": [
       "<Figure size 432x288 with 1 Axes>"
      ]
     },
     "metadata": {
      "needs_background": "light"
     },
     "output_type": "display_data"
    },
    {
     "data": {
      "image/png": "[encoded data removed]",
      "text/plain": [
       "<Figure size 432x288 with 1 Axes>"
      ]
     },
     "metadata": {
      "needs_background": "light"
     },
     "output_type": "display_data"
    },
    {
     "data": {
      "image/png": "[encoded data removed]",
      "text/plain": [
       "<Figure size 432x288 with 1 Axes>"
      ]
     },
     "metadata": {
      "needs_background": "light"
     },
     "output_type": "display_data"
    },
    {
     "data": {
      "image/png": "[encoded data removed]",
      "text/plain": [
       "<Figure size 432x288 with 1 Axes>"
      ]
     },
     "metadata": {
      "needs_background": "light"
     },
     "output_type": "display_data"
    },
    {
     "data": {
      "image/png": "[encoded data removed]",
      "text/plain": [
       "<Figure size 432x288 with 1 Axes>"
      ]
     },
     "metadata": {
      "needs_background": "light"
     },
     "output_type": "display_data"
    },
    {
     "data": {
      "image/png": "[encoded data removed]",
      "text/plain": [
       "<Figure size 432x288 with 1 Axes>"
      ]
     },
     "metadata": {
      "needs_background": "light"
     },
     "output_type": "display_data"
    },
    {
     "data": {
      "image/png": "[encoded data removed]",
      "text/plain": [
       "<Figure size 432x288 with 1 Axes>"
      ]
     },
     "metadata": {
      "needs_background": "light"
     },
     "output_type": "display_data"
    },
    {
     "data": {
      "image/png": "[encoded data removed]",
      "text/plain": [
       "<Figure size 432x288 with 1 Axes>"
      ]
     },
     "metadata": {
      "needs_background": "light"
     },
     "output_type": "display_data"
    },
    {
     "data": {
      "image/png": "[encoded data removed]",
      "text/plain": [
       "<Figure size 432x288 with 1 Axes>"
      ]
     },
     "metadata": {
      "needs_background": "light"
     },
     "output_type": "display_data"
    }
   ],
   "source": [
    "for attr_name in num_attributes:\n",
    "    sns.boxplot(x=df_[attr_name])\n",
    "    plt.show()"
   ]
  },
  {
   "cell_type": "code",
   "execution_count": 17,
   "metadata": {},
   "outputs": [
    {
     "name": "stdout",
     "output_type": "stream",
     "text": [
      "19589\n",
      "12\n"
     ]
    }
   ],
   "source": [
    "print(len(set(data['CLNT_JOB_POSITION'])))\n",
    "print(len(set(data['PACK'])))"
   ]
  },
  {
   "cell_type": "code",
   "execution_count": 18,
   "metadata": {},
   "outputs": [],
   "source": [
    "try:\n",
    "    data = data.drop(['CLNT_JOB_POSITION'], axis=1)\n",
    "except KeyError as e:\n",
    "    pass\n",
    "cat_attributes.remove('CLNT_JOB_POSITION')"
   ]
  },
  {
   "cell_type": "code",
   "execution_count": 19,
   "metadata": {},
   "outputs": [],
   "source": [
    "num_pipeline = Pipeline([\n",
    "    ('selector', DataFrameSelector(num_attributes)),\n",
    "    ('imputer', SimpleImputer()),\n",
    "    ('std_scaler', StandardScaler()),\n",
    "    ('pca', PCA(n_components=0.95))\n",
    "])\n",
    "\n",
    "cat_pipeline = Pipeline([\n",
    "    ('selector', DataFrameSelector(cat_attributes)),\n",
    "    ('imputer', SimpleImputer(strategy='most_frequent')),\n",
    "    ('encoder', OneHotEncoder())\n",
    "])\n",
    "\n",
    "full_pipeline = FeatureUnion(transformer_list=[\n",
    "    ('num_pipeline', num_pipeline),\n",
    "    ('cat_pipeline', cat_pipeline)\n",
    "])"
   ]
  },
  {
   "cell_type": "code",
   "execution_count": 20,
   "metadata": {},
   "outputs": [
    {
     "data": {
      "text/plain": [
       "<355071x46 sparse matrix of type '<class 'numpy.float64'>'\n",
       "\twith 12427485 stored elements in Compressed Sparse Row format>"
      ]
     },
     "execution_count": 20,
     "metadata": {},
     "output_type": "execute_result"
    }
   ],
   "source": [
    "data_prep = full_pipeline.fit_transform(data)\n",
    "data_prep"
   ]
  },
  {
   "cell_type": "code",
   "execution_count": 21,
   "metadata": {},
   "outputs": [],
   "source": [
    "X_train, X_test, y_train, y_test = train_test_split(data_prep, labels, test_size=0.2, random_state=42,\n",
    "                                                    stratify=labels)"
   ]
  },
  {
   "cell_type": "code",
   "execution_count": 23,
   "metadata": {},
   "outputs": [
    {
     "data": {
      "text/plain": [
       "MLPClassifier(max_iter=300, random_state=42)"
      ]
     },
     "execution_count": 23,
     "metadata": {},
     "output_type": "execute_result"
    }
   ],
   "source": [
    "clf = MLPClassifier(random_state=42, max_iter=300)\n",
    "clf.fit(X_train, y_train)"
   ]
  },
  {
   "cell_type": "code",
   "execution_count": 24,
   "metadata": {},
   "outputs": [],
   "source": [
    "predict = clf.predict(X_test)"
   ]
  },
  {
   "cell_type": "code",
   "execution_count": 25,
   "metadata": {},
   "outputs": [
    {
     "data": {
      "text/plain": [
       "0.522194605326462"
      ]
     },
     "execution_count": 25,
     "metadata": {},
     "output_type": "execute_result"
    }
   ],
   "source": [
    "roc_auc_score(y_test, predict)"
   ]
  },
  {
   "cell_type": "code",
   "execution_count": null,
   "metadata": {},
   "outputs": [],
   "source": []
  }
 ],
 "metadata": {
  "kernelspec": {
   "display_name": "Python 3 (ipykernel)",
   "language": "python",
   "name": "python3"
  },
  "language_info": {
   "codemirror_mode": {
    "name": "ipython",
    "version": 3
   },
   "file_extension": ".py",
   "mimetype": "text/x-python",
   "name": "python",
   "nbconvert_exporter": "python",
   "pygments_lexer": "ipython3",
   "version": "3.9.12"
  },
  "vscode": {
   "interpreter": {
    "hash": "bb8aad1d5e6ee7117b687dc876390059767c7ec52c9ad5dee179d4979692b89f"
   }
  }
 },
 "nbformat": 4,
 "nbformat_minor": 2
}
